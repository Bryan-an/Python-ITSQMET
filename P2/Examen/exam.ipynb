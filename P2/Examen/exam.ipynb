{
 "cells": [
  {
   "cell_type": "code",
   "execution_count": 5,
   "metadata": {},
   "outputs": [],
   "source": [
    "from tkinter import *\n",
    "\n",
    "window = Tk()\n",
    "\n",
    "window.title(\"Welcome to LikeGeeks app\")\n",
    "\n",
    "Label(window, text=\"Hello\", font=(\"Arial Bold\", 50)).pack()\n",
    "\n",
    "window.mainloop()\n"
   ]
  },
  {
   "cell_type": "code",
   "execution_count": 2,
   "metadata": {},
   "outputs": [],
   "source": [
    "from tkinter import *\n",
    "\n",
    "window = Tk()\n",
    "\n",
    "window.title(\"Welcome to LikeGeeks app\")\n",
    "\n",
    "window.geometry('350x200')\n",
    "\n",
    "lbl = Label(window, text=\"Hola Mundo\")\n",
    "\n",
    "lbl.grid(column=0, row=0)\n",
    "\n",
    "btn = Button(window, text=\"Click Me\")\n",
    "\n",
    "btn.grid(column=1, row=0)\n",
    "\n",
    "window.mainloop()\n"
   ]
  },
  {
   "cell_type": "code",
   "execution_count": 3,
   "metadata": {},
   "outputs": [
    {
     "name": "stdout",
     "output_type": "stream",
     "text": [
      "7 * 5 = 35\n",
      "Comienzo del programa\n",
      "Siguiente\n",
      "113 * 5 = 565\n",
      "Comienzo del programa\n",
      "Fin\n"
     ]
    }
   ],
   "source": [
    "def multiplica_por_5(numero):\n",
    "  print(f'{numero} * 5 = {numero * 5}')\n",
    "  print('Comienzo del programa')\n",
    "  \n",
    "multiplica_por_5(7)\n",
    "print('Siguiente')\n",
    "multiplica_por_5(113)\n",
    "print('Fin')\n"
   ]
  },
  {
   "cell_type": "code",
   "execution_count": 6,
   "metadata": {},
   "outputs": [],
   "source": [
    "from datetime import datetime, date, time, timedelta\n",
    "import calendar"
   ]
  }
 ],
 "metadata": {
  "kernelspec": {
   "display_name": "Python 3.10.5 64-bit",
   "language": "python",
   "name": "python3"
  },
  "language_info": {
   "codemirror_mode": {
    "name": "ipython",
    "version": 3
   },
   "file_extension": ".py",
   "mimetype": "text/x-python",
   "name": "python",
   "nbconvert_exporter": "python",
   "pygments_lexer": "ipython3",
   "version": "3.10.5"
  },
  "orig_nbformat": 4,
  "vscode": {
   "interpreter": {
    "hash": "0972942e03d806110c4040867f38f1bf7ad68804d552db4763aadbe2786688e7"
   }
  }
 },
 "nbformat": 4,
 "nbformat_minor": 2
}
