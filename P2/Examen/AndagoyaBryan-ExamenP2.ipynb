{
 "cells": [
  {
   "cell_type": "code",
   "execution_count": 23,
   "metadata": {},
   "outputs": [],
   "source": [
    "from tkinter import *\n",
    "from tkinter import messagebox\n",
    "\n",
    "root =  Tk()\n",
    "\n",
    "name_label = Label(root, text=\"Ingrese Nombre\", padx=10, pady=10)\n",
    "name_label.grid(row=0, column=0)\n",
    "\n",
    "name_entry = Entry(root, bg=\"#4472c4\", fg=\"white\")\n",
    "name_entry.grid(row=0, column=1)\n",
    "\n",
    "last_name_label = Label(root, text=\"Ingrese Apellido\", padx=10, pady=10)\n",
    "last_name_label.grid(row=1, column=0)\n",
    "\n",
    "last_name_entry = Entry(root, bg=\"#4472c4\", fg=\"white\")\n",
    "last_name_entry.grid(row=1, column=1)\n",
    "\n",
    "age_label = Label(root, text=\"Ingrese edad\", padx=10, pady=10)\n",
    "age_label.grid(row=2, column=0)\n",
    "\n",
    "age_entry = Entry(root, bg=\"#4472c4\", fg=\"white\")\n",
    "age_entry.grid(row=2, column=1)\n",
    "\n",
    "phone_label = Label(root, text=\"Ingrese teléfono\", padx=10, pady=10)\n",
    "phone_label.grid(row=3, column=0)\n",
    "\n",
    "phone_entry = Entry(root, bg=\"#4472c4\", fg=\"white\")\n",
    "phone_entry.grid(row=3, column=1)\n",
    "\n",
    "def show_messagebox():\n",
    "  messagebox.showinfo(title=\"INGRESAR DATOS\", message=\"DATOS INGRESADOS\")\n",
    "\n",
    "\n",
    "submit_button = Button(root, text=\"INGRESAR\", bg=\"#4472c4\", fg=\"white\", command=show_messagebox)\n",
    "submit_button.grid(row=4, columnspan=2)\n",
    "\n",
    "root.mainloop()\n"
   ]
  }
 ],
 "metadata": {
  "kernelspec": {
   "display_name": "Python 3.10.5 64-bit",
   "language": "python",
   "name": "python3"
  },
  "language_info": {
   "codemirror_mode": {
    "name": "ipython",
    "version": 3
   },
   "file_extension": ".py",
   "mimetype": "text/x-python",
   "name": "python",
   "nbconvert_exporter": "python",
   "pygments_lexer": "ipython3",
   "version": "3.10.5"
  },
  "orig_nbformat": 4,
  "vscode": {
   "interpreter": {
    "hash": "0972942e03d806110c4040867f38f1bf7ad68804d552db4763aadbe2786688e7"
   }
  }
 },
 "nbformat": 4,
 "nbformat_minor": 2
}
