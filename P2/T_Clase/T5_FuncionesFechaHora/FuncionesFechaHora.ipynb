{
 "cells": [
  {
   "cell_type": "code",
   "execution_count": 1,
   "id": "1e38621e",
   "metadata": {},
   "outputs": [
    {
     "name": "stdout",
     "output_type": "stream",
     "text": [
      "El dia actual es: 11\n",
      "El mes actual es: 7\n",
      "El año actual es: 2022\n"
     ]
    }
   ],
   "source": [
    "from datetime import date\n",
    "\n",
    "actual = date.today()\n",
    "print('El dia actual es:', actual.day)\n",
    "print('El mes actual es:', actual.month)\n",
    "print('El año actual es:', actual.year)"
   ]
  },
  {
   "cell_type": "code",
   "execution_count": 2,
   "id": "cd082f24",
   "metadata": {},
   "outputs": [
    {
     "name": "stdout",
     "output_type": "stream",
     "text": [
      "El dia actual es: 11\n",
      "El mes actual es: 7\n",
      "El año actual es: 2022\n",
      "\n",
      "\n",
      "Diferente formato\n",
      "formato1 =  07/11/22\n"
     ]
    }
   ],
   "source": [
    "from datetime import date\n",
    "\n",
    "actual = date.today()\n",
    "print('El dia actual es:', actual.day)\n",
    "print('El mes actual es:', actual.month)\n",
    "print('El año actual es:', actual.year)\n",
    "print('\\n')\n",
    "print('Diferente formato')\n",
    "formato1 = actual.strftime('%m/%d/%y')\n",
    "print('formato1 = ', formato1)"
   ]
  },
  {
   "cell_type": "code",
   "execution_count": 3,
   "id": "c15f708f",
   "metadata": {},
   "outputs": [
    {
     "name": "stdout",
     "output_type": "stream",
     "text": [
      "El dia actual es: 11\n",
      "El mes actual es: 7\n",
      "El año actual es: 2022\n",
      "\n",
      "\n",
      "Diferente formato\n",
      "formato1 = 07/11/22\n",
      "formato2 = Jul-11-2022\n"
     ]
    }
   ],
   "source": [
    "from datetime import date\n",
    "\n",
    "actual = date.today()\n",
    "print('El dia actual es:', actual.day)\n",
    "print('El mes actual es:', actual.month)\n",
    "print('El año actual es:', actual.year)\n",
    "print('\\n')\n",
    "print('Diferente formato')\n",
    "\n",
    "formato1 = actual.strftime('%m/%d/%y')\n",
    "print('formato1 =', formato1)\n",
    "\n",
    "formato2 = actual.strftime('%b-%d-%Y')\n",
    "print('formato2 =', formato2)"
   ]
  },
  {
   "cell_type": "code",
   "execution_count": 4,
   "id": "03b64bd9",
   "metadata": {},
   "outputs": [
    {
     "name": "stdout",
     "output_type": "stream",
     "text": [
      "El dia actual es: 11\n",
      "El mes actual es: 7\n",
      "El año actual es: 2022\n",
      "\n",
      "\n",
      "Diferente formato\n",
      "formato1 = 07/11/22\n",
      "formato2 = Jul-11-2022\n",
      "formato3 = 11/07/2022\n"
     ]
    }
   ],
   "source": [
    "from datetime import date\n",
    "\n",
    "actual = date.today()\n",
    "print('El dia actual es:', actual.day)\n",
    "print('El mes actual es:', actual.month)\n",
    "print('El año actual es:', actual.year)\n",
    "print('\\n')\n",
    "print('Diferente formato')\n",
    "\n",
    "formato1 = actual.strftime('%m/%d/%y')\n",
    "print('formato1 =', formato1)\n",
    "\n",
    "formato2 = actual.strftime('%b-%d-%Y')\n",
    "print('formato2 =', formato2)\n",
    "\n",
    "formato3 = actual.strftime('%d/%m/%Y')\n",
    "print('formato3 =', formato3)"
   ]
  },
  {
   "cell_type": "code",
   "execution_count": 5,
   "id": "5c674575",
   "metadata": {},
   "outputs": [
    {
     "name": "stdout",
     "output_type": "stream",
     "text": [
      "El dia actual es: 11\n",
      "El mes actual es: 7\n",
      "El año actual es: 2022\n",
      "\n",
      "\n",
      "Diferente formato\n",
      "formato1 = 07/11/22\n",
      "formato2 = Jul-11-2022\n",
      "formato3 = 11/07/2022\n",
      "formato3 = July 11, 2022\n"
     ]
    }
   ],
   "source": [
    "from datetime import date\n",
    "\n",
    "actual = date.today()\n",
    "print('El dia actual es:', actual.day)\n",
    "print('El mes actual es:', actual.month)\n",
    "print('El año actual es:', actual.year)\n",
    "print('\\n')\n",
    "print('Diferente formato')\n",
    "\n",
    "formato1 = actual.strftime('%m/%d/%y')\n",
    "print('formato1 =', formato1)\n",
    "\n",
    "formato2 = actual.strftime('%b-%d-%Y')\n",
    "print('formato2 =', formato2)\n",
    "\n",
    "formato3 = actual.strftime('%d/%m/%Y')\n",
    "print('formato3 =', formato3)\n",
    "\n",
    "formato4 = actual.strftime('%B %d, %Y')\n",
    "print('formato3 =', formato4)"
   ]
  },
  {
   "cell_type": "code",
   "execution_count": 2,
   "id": "01b079e8",
   "metadata": {},
   "outputs": [
    {
     "name": "stdout",
     "output_type": "stream",
     "text": [
      "la hora es: 0\n",
      "los minutos son: 0\n",
      "los segundos son: 0\n",
      "10:05:25\n",
      "2022-07-11 08:34:43.152809\n"
     ]
    }
   ],
   "source": [
    "# Date time\n",
    "from datetime import time, datetime, date, timedelta\n",
    "\n",
    "tiempo = time()\n",
    "\n",
    "print('la hora es:', tiempo.hour)\n",
    "print('los minutos son:', tiempo.minute)\n",
    "print('los segundos son:', tiempo.second)\n",
    "\n",
    "tiempo1 = time(10,5,25)\n",
    "print(tiempo1)\n",
    "\n",
    "ahora = datetime.now()\n",
    "print(ahora)"
   ]
  },
  {
   "cell_type": "code",
   "execution_count": 3,
   "id": "a59d78a4",
   "metadata": {},
   "outputs": [
    {
     "name": "stdout",
     "output_type": "stream",
     "text": [
      "Horas\n",
      "\tHora 1: 10:05:00\n",
      "\tHora 2: 23:15:00\n",
      "Comparación True\n"
     ]
    }
   ],
   "source": [
    "print('Horas')\n",
    "hora1 = time(10, 5, 0)\n",
    "print('\\tHora 1:', hora1)\n",
    "hora2 = time(23, 15, 0)\n",
    "print('\\tHora 2:', hora2)\n",
    "print('Comparación', hora1 < hora2)"
   ]
  },
  {
   "cell_type": "code",
   "execution_count": 9,
   "id": "3ca67c1a",
   "metadata": {},
   "outputs": [
    {
     "name": "stdout",
     "output_type": "stream",
     "text": [
      "Hora 1\n",
      "Ingrese la hora: 4\n",
      "Ingrese los minutos: 5\n",
      "Ingrese los segundos: 8\n",
      "Hora 1: 04:05:08\n",
      "Hora 2\n",
      "Ingrese la hora: 5\n",
      "Ingrese los minutos: 8\n",
      "Ingrese los segundos: 9\n",
      "Hora 2: 05:08:09\n",
      "Comparación: True\n"
     ]
    }
   ],
   "source": [
    "# Ejercicio: Ingresar las fechas por teclado y compararlas\n",
    "print('Hora 1')\n",
    "hour1 = int(input(\"Ingrese la hora: \"))\n",
    "minute1 = int(input(\"Ingrese los minutos: \"))\n",
    "second1 = int(input(\"Ingrese los segundos: \"))\n",
    "time1 = time(hour1, minute1, second1)\n",
    "print('Hora 1:', time1)\n",
    "\n",
    "print('Hora 2')\n",
    "hour2 = int(input(\"Ingrese la hora: \"))\n",
    "minute2 = int(input(\"Ingrese los minutos: \"))\n",
    "second2 = int(input(\"Ingrese los segundos: \"))\n",
    "time2 = time(hour2, minute2, second2)\n",
    "print('Hora 2:', time2)\n",
    "\n",
    "print('Comparación:', time1 < time2)"
   ]
  },
  {
   "cell_type": "code",
   "execution_count": null,
   "id": "3e71d791",
   "metadata": {},
   "outputs": [
    {
     "name": "stdout",
     "output_type": "stream",
     "text": [
      "Introducir la fecha inicial (dd/mm/aaaa): 5/5/2022\n",
      "Introducir la fecha final (dd/mm/aaaa): 7/7/2022\n",
      "Diferencia 63 días\n",
      "Introducir la fecha inicial (dd/mm/aaaa): fdf\n",
      "Introducir la fecha final (dd/mm/aaaa): afadsf\n",
      "Error en la fecha. Inténtalo de nuevo\n",
      "Error en la fecha. Inténtalo de nuevo\n",
      "Error en la fecha. Inténtalo de nuevo\n"
     ]
    }
   ],
   "source": [
    "# Diferencia de fechas en días, introducidas por teclado\n",
    "from datetime import datetime\n",
    "\n",
    "def main():\n",
    "    formato = '%d/%m/%Y'\n",
    "\n",
    "    while True:\n",
    "        try:\n",
    "            fecha_desde = input('Introducir la fecha inicial (dd/mm/aaaa): ')\n",
    "\n",
    "            if fecha_desde == \"\":\n",
    "                break\n",
    "\n",
    "            fecha_hasta = input('Introducir la fecha final (dd/mm/aaaa): ')\n",
    "\n",
    "            if fecha_hasta == \"\":\n",
    "                break\n",
    "\n",
    "            fecha_desde = datetime.strptime(fecha_desde, formato)\n",
    "            fecha_hasta = datetime.strptime(fecha_hasta, formato)\n",
    "\n",
    "            if fecha_hasta >= fecha_desde:\n",
    "                diferencia = fecha_hasta - fecha_desde\n",
    "                print('Diferencia', diferencia.days, 'días')\n",
    "            else:\n",
    "                print('La fecha final debe ser mayor o igual a la inicial')\n",
    "\n",
    "        except:\n",
    "            print('Error en la fecha. Inténtalo de nuevo')\n",
    "\n",
    "    return 0\n",
    "\n",
    "if __name__ == '__main__':\n",
    "    main()"
   ]
  },
  {
   "cell_type": "code",
   "execution_count": null,
   "id": "d96a737a",
   "metadata": {},
   "outputs": [],
   "source": []
  }
 ],
 "metadata": {
  "kernelspec": {
   "display_name": "Python 3 (ipykernel)",
   "language": "python",
   "name": "python3"
  },
  "language_info": {
   "codemirror_mode": {
    "name": "ipython",
    "version": 3
   },
   "file_extension": ".py",
   "mimetype": "text/x-python",
   "name": "python",
   "nbconvert_exporter": "python",
   "pygments_lexer": "ipython3",
   "version": "3.9.7"
  }
 },
 "nbformat": 4,
 "nbformat_minor": 5
}
