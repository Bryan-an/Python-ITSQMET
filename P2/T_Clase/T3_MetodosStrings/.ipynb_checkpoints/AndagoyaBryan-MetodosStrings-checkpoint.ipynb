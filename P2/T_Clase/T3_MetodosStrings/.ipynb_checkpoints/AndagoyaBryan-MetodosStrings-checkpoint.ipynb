{
 "cells": [
  {
   "cell_type": "code",
   "execution_count": 3,
   "id": "bcc5c981",
   "metadata": {},
   "outputs": [
    {
     "name": "stdout",
     "output_type": "stream",
     "text": [
      "52\n",
      "94\n"
     ]
    }
   ],
   "source": [
    "# Método find()\n",
    "string = \"Es peor cometer una injusticia que padecerla porque quien la comete se convierte en injusto y quienla padece no.\"\n",
    "print(string.find('quien'))\n",
    "print(string.rfind('quien'))"
   ]
  },
  {
   "cell_type": "code",
   "execution_count": 7,
   "id": "1a7ef4af",
   "metadata": {},
   "outputs": [
    {
     "name": "stdout",
     "output_type": "stream",
     "text": [
      "-1\n"
     ]
    }
   ],
   "source": [
    "print(string.find('quien', 53, 94)) # find 'quien' ubicado desde la posición 52 y 94"
   ]
  },
  {
   "cell_type": "code",
   "execution_count": 13,
   "id": "b6b3ce44",
   "metadata": {},
   "outputs": [
    {
     "name": "stdout",
     "output_type": "stream",
     "text": [
      "freeCodeCamp:es:divertido\n",
      "A y B y C\n",
      "f r e e C o d e C a m p\n",
      "program\n",
      "1,3,2\n"
     ]
    }
   ],
   "source": [
    "# Método join()\n",
    "# Concatena la lista de strings con \":\"\n",
    "print(\":\".join([\"freeCodeCamp\", \"es\", \"divertido\"]))\n",
    "\n",
    "# Concatena una tupla de strings con: \" y \"\n",
    "print(\" y \".join([\"A\", \"B\", \"C\"]))\n",
    "\n",
    "# Inserta un \" \" después de cada carácter en un string\n",
    "print(\" \".join(\"freeCodeCamp\"))\n",
    "\n",
    "# Concatenando una lista de caracteres\n",
    "listChar = ['p', 'r', 'o', 'g', 'r', 'a', 'm']\n",
    "print(\"\".join(listChar))\n",
    "\n",
    "# Uniendo sets\n",
    "test = {'2', '1', '3'}\n",
    "s = ','\n",
    "print(s.join(test))"
   ]
  },
  {
   "cell_type": "code",
   "execution_count": 15,
   "id": "cb977e19",
   "metadata": {},
   "outputs": [
    {
     "name": "stdout",
     "output_type": "stream",
     "text": [
      "Esto FUE bonito. Esto FUE bueno\n",
      "Para mi FUEto FUE bonito. Esto es bueno.\n"
     ]
    }
   ],
   "source": [
    "# Método replace()\n",
    "# Reemplaza las ocurrecencias \"es\" con \"FUE\"\n",
    "string = \"Esto es bonito. Esto es bueno\"\n",
    "newString = string.replace(\"es\", \"FUE\")\n",
    "print(newString)\n",
    "\n",
    "# Reemplaza las primeras dos ocurrencias \"es\" con \"FUE\"\n",
    "string = \"Para mi esto es bonito. Esto es bueno.\"\n",
    "nuevoString = string.replace(\"es\", \"FUE\", 2)\n",
    "print(nuevoString)"
   ]
  },
  {
   "cell_type": "code",
   "execution_count": 16,
   "id": "a3d47ce3",
   "metadata": {},
   "outputs": [
    {
     "name": "stdout",
     "output_type": "stream",
     "text": [
      "Hola, Mundo! \n",
      " Hola, Mundo!\n",
      "Hola, Mundo!\n"
     ]
    }
   ],
   "source": [
    "#Método strip()\n",
    "string = \" Hola, Mundo! \"\n",
    "cortar_izquierda = string.lstrip()\n",
    "print(cortar_izquierda)\n",
    "\n",
    "cortar_derecha = string.rstrip()\n",
    "print(cortar_derecha)\n",
    "\n",
    "cortar_ambos_lados = string.strip()\n",
    "print(cortar_ambos_lados)"
   ]
  },
  {
   "cell_type": "code",
   "execution_count": 17,
   "id": "b34fe5a5",
   "metadata": {},
   "outputs": [
    {
     "name": "stdout",
     "output_type": "stream",
     "text": [
      "ejemplo.com\n"
     ]
    }
   ],
   "source": [
    "url = 'www.ejemplo.com/'\n",
    "print(url.strip('w./'))"
   ]
  },
  {
   "cell_type": "code",
   "execution_count": 21,
   "id": "e340ae94",
   "metadata": {},
   "outputs": [
    {
     "name": "stdout",
     "output_type": "stream",
     "text": [
      "['freeCodeCamp', 'is', 'fun']\n",
      "['freeCodeCamp', ' es divertido', ' e informativo']\n",
      "['freeCodeCamp', 'es', 'divertido', 'e', 'informativo']\n"
     ]
    }
   ],
   "source": [
    "# Método split()\n",
    "# String dividido con espacio en blanco \" \"\n",
    "string = \"freeCodeCamp is fun\"\n",
    "print(string.split(\" \"))\n",
    "\n",
    "# String dividido con coma: \",\"\n",
    "string = \"freeCodeCamp, es divertido, e informativo\"\n",
    "print(string.split(\",\"))\n",
    "\n",
    "# separator no especificado\n",
    "string = \"freeCodeCamp es divertido e informativo\"\n",
    "print(string.split())"
   ]
  },
  {
   "cell_type": "code",
   "execution_count": 23,
   "id": "1f9bcc55",
   "metadata": {},
   "outputs": [
    {
     "name": "stdout",
     "output_type": "stream",
     "text": [
      "['freeCodeCamp', 'es', 'divertido e informativo']\n"
     ]
    }
   ],
   "source": [
    "string = \"freeCodeCamp es divertido e informativo\"\n",
    "print(string.split(\" \", 2))"
   ]
  },
  {
   "cell_type": "code",
   "execution_count": 26,
   "id": "7f8ef822",
   "metadata": {},
   "outputs": [
    {
     "name": "stdout",
     "output_type": "stream",
     "text": [
      "1\n"
     ]
    }
   ],
   "source": [
    "# Método count()\n",
    "s = \"Hola mundo\"\n",
    "print(s.count(\"Hola\"))"
   ]
  },
  {
   "cell_type": "code",
   "execution_count": 27,
   "id": "496f481d",
   "metadata": {},
   "outputs": [
    {
     "name": "stdout",
     "output_type": "stream",
     "text": [
      "5\n"
     ]
    }
   ],
   "source": [
    "# Método index()\n",
    "print(s.index(\"mundo\"))"
   ]
  },
  {
   "cell_type": "code",
   "execution_count": 28,
   "id": "5b506366",
   "metadata": {},
   "outputs": [
    {
     "ename": "ValueError",
     "evalue": "substring not found",
     "output_type": "error",
     "traceback": [
      "\u001b[1;31m---------------------------------------------------------------------------\u001b[0m",
      "\u001b[1;31mValueError\u001b[0m                                Traceback (most recent call last)",
      "\u001b[1;32m~\\AppData\\Local\\Temp/ipykernel_1492/4190186764.py\u001b[0m in \u001b[0;36m<module>\u001b[1;34m\u001b[0m\n\u001b[1;32m----> 1\u001b[1;33m \u001b[0mprint\u001b[0m\u001b[1;33m(\u001b[0m\u001b[0ms\u001b[0m\u001b[1;33m.\u001b[0m\u001b[0mindex\u001b[0m\u001b[1;33m(\u001b[0m\u001b[1;34m\"world\"\u001b[0m\u001b[1;33m)\u001b[0m\u001b[1;33m)\u001b[0m\u001b[1;33m\u001b[0m\u001b[1;33m\u001b[0m\u001b[0m\n\u001b[0m",
      "\u001b[1;31mValueError\u001b[0m: substring not found"
     ]
    }
   ],
   "source": [
    "print(s.index(\"world\"))"
   ]
  },
  {
   "cell_type": "code",
   "execution_count": 31,
   "id": "e4d915bb",
   "metadata": {},
   "outputs": [
    {
     "name": "stdout",
     "output_type": "stream",
     "text": [
      "True\n",
      "True\n",
      "False\n"
     ]
    }
   ],
   "source": [
    "# Método startswith() y endswith()\n",
    "s = \"Hola mundo\"\n",
    "print(s.startswith(\"Hola\"))\n",
    "print(s.endswith(\"mundo\"))\n",
    "print(s.endswith(\"world\"))"
   ]
  },
  {
   "cell_type": "code",
   "execution_count": 32,
   "id": "81ebb838",
   "metadata": {},
   "outputs": [
    {
     "name": "stdout",
     "output_type": "stream",
     "text": [
      "True\n"
     ]
    }
   ],
   "source": [
    "# Se prefiere startswith()\n",
    "print(s[:4] == \"Hola\")"
   ]
  },
  {
   "cell_type": "code",
   "execution_count": 33,
   "id": "e588e336",
   "metadata": {},
   "outputs": [
    {
     "name": "stdout",
     "output_type": "stream",
     "text": [
      "True\n",
      "True\n",
      "False\n"
     ]
    }
   ],
   "source": [
    "# Métodos isdigit(), isnumeric(), e isdecimal()\n",
    "print(\"1234\".isnumeric())\n",
    "print(\"1234\".isdecimal())\n",
    "print(\"abc123\".isdigit())"
   ]
  },
  {
   "cell_type": "code",
   "execution_count": 34,
   "id": "5e9a382d",
   "metadata": {},
   "outputs": [
    {
     "name": "stdout",
     "output_type": "stream",
     "text": [
      "True\n"
     ]
    }
   ],
   "source": [
    "# Método isalmun()\n",
    "print(\"abc123\".isalnum())"
   ]
  },
  {
   "cell_type": "code",
   "execution_count": 35,
   "id": "32342013",
   "metadata": {},
   "outputs": [
    {
     "name": "stdout",
     "output_type": "stream",
     "text": [
      "True\n",
      "False\n"
     ]
    }
   ],
   "source": [
    "# Método isalpha()\n",
    "print(\"abcdef\".isalpha())\n",
    "print(\"abc123\".isalpha())"
   ]
  },
  {
   "cell_type": "code",
   "execution_count": 37,
   "id": "db2b9fe3",
   "metadata": {},
   "outputs": [
    {
     "name": "stdout",
     "output_type": "stream",
     "text": [
      "True\n"
     ]
    }
   ],
   "source": [
    "# Método islower()\n",
    "print(\"abcdef\".islower())"
   ]
  },
  {
   "cell_type": "code",
   "execution_count": 38,
   "id": "c5ec41b9",
   "metadata": {},
   "outputs": [
    {
     "name": "stdout",
     "output_type": "stream",
     "text": [
      "True\n"
     ]
    }
   ],
   "source": [
    "# Método isupper()\n",
    "print(\"ABCDED\".isupper())"
   ]
  },
  {
   "cell_type": "code",
   "execution_count": 39,
   "id": "921cd86b",
   "metadata": {},
   "outputs": [
    {
     "name": "stdout",
     "output_type": "stream",
     "text": [
      "False\n"
     ]
    }
   ],
   "source": [
    "# Método isprintable()\n",
    "print(\"Hola \\t mundo!\".isprintable())"
   ]
  },
  {
   "cell_type": "code",
   "execution_count": 40,
   "id": "a063aa11",
   "metadata": {},
   "outputs": [
    {
     "name": "stdout",
     "output_type": "stream",
     "text": [
      "False\n",
      "True\n"
     ]
    }
   ],
   "source": [
    "# Método isspace()\n",
    "print(\"Hola mundo\".isspace())\n",
    "print(\"      \".isspace())"
   ]
  },
  {
   "cell_type": "code",
   "execution_count": 41,
   "id": "ddf8cd50",
   "metadata": {},
   "outputs": [
    {
     "name": "stdout",
     "output_type": "stream",
     "text": [
      "Hola mundo\n"
     ]
    }
   ],
   "source": [
    "# Método capitalize()\n",
    "print(\"hola mundo\".capitalize())"
   ]
  },
  {
   "cell_type": "code",
   "execution_count": 42,
   "id": "ff5cf38f",
   "metadata": {},
   "outputs": [
    {
     "name": "stdout",
     "output_type": "stream",
     "text": [
      "b'Hola mundo'\n"
     ]
    }
   ],
   "source": [
    "# Método encode()\n",
    "print(\"Hola mundo\".encode(\"utf-8\"))"
   ]
  },
  {
   "cell_type": "code",
   "execution_count": 43,
   "id": "bf9bed85",
   "metadata": {},
   "outputs": [
    {
     "name": "stdout",
     "output_type": "stream",
     "text": [
      "   Hola   \n",
      "Hola      \n",
      "      Hola\n"
     ]
    }
   ],
   "source": [
    "# Método center(), ljust() y rjust()\n",
    "print(\"Hola\".center(10))\n",
    "print(\"Hola\".ljust(10))\n",
    "print(\"Hola\".rjust(10))"
   ]
  },
  {
   "cell_type": "code",
   "execution_count": 44,
   "id": "8bda0555",
   "metadata": {},
   "outputs": [
    {
     "name": "stdout",
     "output_type": "stream",
     "text": [
      "***Hola***\n"
     ]
    }
   ],
   "source": [
    "print(\"Hola\".center(10, \"*\"))"
   ]
  },
  {
   "cell_type": "code",
   "execution_count": 45,
   "id": "9beff80e",
   "metadata": {},
   "outputs": [
    {
     "name": "stdout",
     "output_type": "stream",
     "text": [
      "hola mundo!\n",
      "HOLA MUNDO!\n"
     ]
    }
   ],
   "source": [
    "# Método lower() y upper()\n",
    "print(\"Hola Mundo!\".lower())\n",
    "print(\"Hola Mundo!\".upper())"
   ]
  },
  {
   "cell_type": "code",
   "execution_count": 46,
   "id": "7bb73157",
   "metadata": {},
   "outputs": [
    {
     "name": "stdout",
     "output_type": "stream",
     "text": [
      "hOLA mUNDO!\n"
     ]
    }
   ],
   "source": [
    "# Método swapcase()\n",
    "print(\"Hola Mundo!\".swapcase())"
   ]
  },
  {
   "cell_type": "code",
   "execution_count": 47,
   "id": "35131c55",
   "metadata": {},
   "outputs": [
    {
     "name": "stdout",
     "output_type": "stream",
     "text": [
      "('Hola', ' ', 'mundo. Hello world')\n"
     ]
    }
   ],
   "source": [
    "# Método partition()\n",
    "s = \"Hola mundo. Hello world\"\n",
    "print(s.partition(\" \"))"
   ]
  },
  {
   "cell_type": "code",
   "execution_count": 48,
   "id": "0399985c",
   "metadata": {},
   "outputs": [
    {
     "name": "stdout",
     "output_type": "stream",
     "text": [
      "('Hola mundo. Hello', ' ', 'world')\n"
     ]
    }
   ],
   "source": [
    "print(s.rpartition(\" \"))"
   ]
  },
  {
   "cell_type": "code",
   "execution_count": null,
   "id": "081b16e7",
   "metadata": {},
   "outputs": [],
   "source": []
  }
 ],
 "metadata": {
  "kernelspec": {
   "display_name": "Python 3 (ipykernel)",
   "language": "python",
   "name": "python3"
  },
  "language_info": {
   "codemirror_mode": {
    "name": "ipython",
    "version": 3
   },
   "file_extension": ".py",
   "mimetype": "text/x-python",
   "name": "python",
   "nbconvert_exporter": "python",
   "pygments_lexer": "ipython3",
   "version": "3.9.7"
  },
  "vscode": {
   "interpreter": {
    "hash": "96e4788ae14688d5fa7d2c6d018a073dd531b8816c9d5d24f36eca33c12669df"
   }
  }
 },
 "nbformat": 4,
 "nbformat_minor": 5
}
