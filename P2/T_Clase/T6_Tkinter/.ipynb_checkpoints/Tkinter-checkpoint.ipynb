{
 "cells": [
  {
   "cell_type": "code",
   "execution_count": 2,
   "id": "435c9b28",
   "metadata": {},
   "outputs": [],
   "source": [
    "import tkinter as tk\n",
    "\n",
    "base = tk.Tk()\n",
    "\n",
    "label = tk.Label(base, text=\"Hola Mundo\")\n",
    "label.pack(padx=100, pady=100)\n",
    "\n",
    "base.mainloop()"
   ]
  },
  {
   "cell_type": "code",
   "execution_count": 10,
   "id": "3ad126c9",
   "metadata": {},
   "outputs": [],
   "source": [
    "from tkinter import *\n",
    "\n",
    "root = Tk()\n",
    "root.geometry(\"400x400\")\n",
    "\n",
    "label1 = Label(root, text = \"Hola Mundo!\")\n",
    "label1.pack(side = TOP)\n",
    "\n",
    "label2 = Label(root, text = \"Otra etiqueta!\")\n",
    "label2.pack(side = LEFT)\n",
    "\n",
    "label3 = Label(root, text = \"Última equiqueta\")\n",
    "label3.pack(side = RIGHT)\n",
    "\n",
    "root.mainloop()"
   ]
  },
  {
   "cell_type": "code",
   "execution_count": 19,
   "id": "0cb9065d",
   "metadata": {},
   "outputs": [],
   "source": [
    "from tkinter import *\n",
    "from datetime import date \n",
    "\n",
    "root = Tk()\n",
    "root.geometry(\"400x400\")\n",
    "\n",
    "date_frame = Frame(root)\n",
    "date_frame.pack()\n",
    "\n",
    "date_label = Label(date_frame, text = \"Fecha actual:\")\n",
    "date_label.pack(side = LEFT)\n",
    "\n",
    "date_entry = Entry(date_frame)\n",
    "date_entry.pack(side = LEFT)\n",
    "\n",
    "def show_date():\n",
    "    date_entry.insert(0, date.today())\n",
    "\n",
    "ok_button = Button(root, text = \"OK\", command = show_date )\n",
    "ok_button.pack()\n",
    "\n",
    "root.mainloop()"
   ]
  },
  {
   "cell_type": "code",
   "execution_count": null,
   "id": "f1976677",
   "metadata": {},
   "outputs": [],
   "source": []
  }
 ],
 "metadata": {
  "kernelspec": {
   "display_name": "Python 3 (ipykernel)",
   "language": "python",
   "name": "python3"
  },
  "language_info": {
   "codemirror_mode": {
    "name": "ipython",
    "version": 3
   },
   "file_extension": ".py",
   "mimetype": "text/x-python",
   "name": "python",
   "nbconvert_exporter": "python",
   "pygments_lexer": "ipython3",
   "version": "3.9.7"
  }
 },
 "nbformat": 4,
 "nbformat_minor": 5
}
