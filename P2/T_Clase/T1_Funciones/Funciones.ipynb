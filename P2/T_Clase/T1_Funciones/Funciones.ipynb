{
 "cells": [
  {
   "cell_type": "code",
   "execution_count": 22,
   "id": "e9075106",
   "metadata": {},
   "outputs": [
    {
     "name": "stdout",
     "output_type": "stream",
     "text": [
      "21\n"
     ]
    }
   ],
   "source": [
    "def sumar(a, b, c):\n",
    "    return a + b + c\n",
    "\n",
    "print(sumar(10, 5, 6))"
   ]
  },
  {
   "cell_type": "code",
   "execution_count": 3,
   "id": "93cc5176",
   "metadata": {},
   "outputs": [
    {
     "name": "stdout",
     "output_type": "stream",
     "text": [
      "0\n",
      "1\n",
      "1\n",
      "2\n",
      "3\n",
      "5\n",
      "8\n",
      "13\n",
      "21\n",
      "34\n"
     ]
    }
   ],
   "source": [
    "# Escribir una función que reciba un número entero positivo \n",
    "# y devuelva su fibonacci\n",
    "def fibo(n):\n",
    "    if n > 1:\n",
    "        return fibo(n - 1) + fibo(n - 2)\n",
    "    return n\n",
    "    \n",
    "for i in range(10):\n",
    "    print(fibo(i))"
   ]
  },
  {
   "cell_type": "code",
   "execution_count": 9,
   "id": "eb704271",
   "metadata": {},
   "outputs": [
    {
     "name": "stdout",
     "output_type": "stream",
     "text": [
      "[1, 4, 9, 16, 25, 36, 49, 64, 81]\n"
     ]
    }
   ],
   "source": [
    "# Escribir una función que reciba una muestra de números en una lista \n",
    "# y devuelva otra lista con sus cuadrados.\n",
    "\n",
    "# def square(numbers):\n",
    "#     result = []\n",
    "    \n",
    "#     for i in numbers:\n",
    "#         result.append(i**2)\n",
    "    \n",
    "#     return result\n",
    "\n",
    "# print(square([2, 3, 4]))\n",
    "\n",
    "def cuadrado(numero):\n",
    "    list = []\n",
    "    \n",
    "    for i in numero:\n",
    "        list.append(i ** 2)\n",
    "    \n",
    "    return list\n",
    "\n",
    "print(cuadrado([1, 2, 3, 4, 5, 6, 7, 8, 9]))"
   ]
  },
  {
   "cell_type": "code",
   "execution_count": 16,
   "id": "5e5defe5",
   "metadata": {},
   "outputs": [
    {
     "name": "stdout",
     "output_type": "stream",
     "text": [
      "5\n",
      "101\n"
     ]
    }
   ],
   "source": [
    "# Escribir una función que convierta un número decimal \n",
    "# en binario y otra que convierta un número binario en decimal.\n",
    "\n",
    "# def decimal_to_binary(num):\n",
    "#     return bin(num).replace(\"0b\", \"\")\n",
    "\n",
    "# def binary_to_decimal(num):\n",
    "#     return int(num, 2)\n",
    "\n",
    "# print(f\"El número binario es {decimal_to_binary(5)}\")\n",
    "# print(f\"El número decimal es {binary_to_decimal('101')}\")\n",
    "\n",
    "def a_decimal(n):\n",
    "    n = list(n)\n",
    "    n.reverse()\n",
    "    decimal = 0\n",
    "    \n",
    "    for i in range(len(n)):\n",
    "        decimal += int(n[i]) * 2 ** i\n",
    "    \n",
    "    return decimal\n",
    "\n",
    "print(a_decimal('101'))\n",
    "\n",
    "def a_binario(n):\n",
    "    binario = []\n",
    "    \n",
    "    while n > 0:\n",
    "        binario.append(str(n % 2))\n",
    "        n //= 2\n",
    "    \n",
    "    binario.reverse()\n",
    "    return ''.join(binario)\n",
    "\n",
    "print(a_binario(5))"
   ]
  },
  {
   "cell_type": "code",
   "execution_count": 18,
   "id": "e7123889",
   "metadata": {},
   "outputs": [
    {
     "name": "stdout",
     "output_type": "stream",
     "text": [
      "{'Hola': 4, 'esta': 4, 'es': 2, 'una': 3, 'prueba': 6, 'de': 2, 'python': 6}\n"
     ]
    }
   ],
   "source": [
    "# Escribir una función que reciba una frase y devuelva un diccionario con las palabras que contiene y su longitud.\n",
    "\n",
    "def lon_cad(frase):\n",
    "    palabra = frase.split()\n",
    "    longitud = map(len, palabra)\n",
    "    return dict(zip(palabra, longitud))\n",
    "\n",
    "print(lon_cad('Hola esta es una prueba de python'))"
   ]
  },
  {
   "cell_type": "code",
   "execution_count": 21,
   "id": "8ec813ac",
   "metadata": {},
   "outputs": [
    {
     "name": "stdout",
     "output_type": "stream",
     "text": [
      "{'PYTHON': 8.0, 'PROGRAMACIÓN': 9.0}\n"
     ]
    }
   ],
   "source": [
    "# Escribir una función que reciba un diccionario con las asignaturas \n",
    "# y las notas de un alumno y devuelva otro diccionario con las \n",
    "# asignaturas en mayúsculas y las calificaciones correspondientes a las notas\n",
    "\n",
    "def calculate_average(grades):\n",
    "    sum = 0\n",
    "    \n",
    "    for grade in grades:\n",
    "        sum += grade\n",
    "        \n",
    "    return sum / len(grades)\n",
    "\n",
    "\n",
    "def calculate_grades(dic):\n",
    "    result = {}\n",
    "    \n",
    "    for key in dic.keys():\n",
    "        result[key.upper()] = calculate_average(dic[key])\n",
    "        \n",
    "    return result\n",
    "\n",
    "print(calculate_grades({'python': [10, 8, 6], 'programación': [9, 8, 10]}))"
   ]
  },
  {
   "cell_type": "code",
   "execution_count": null,
   "id": "9c72cd94",
   "metadata": {},
   "outputs": [],
   "source": []
  }
 ],
 "metadata": {
  "kernelspec": {
   "display_name": "Python 3 (ipykernel)",
   "language": "python",
   "name": "python3"
  },
  "language_info": {
   "codemirror_mode": {
    "name": "ipython",
    "version": 3
   },
   "file_extension": ".py",
   "mimetype": "text/x-python",
   "name": "python",
   "nbconvert_exporter": "python",
   "pygments_lexer": "ipython3",
   "version": "3.9.7"
  }
 },
 "nbformat": 4,
 "nbformat_minor": 5
}
