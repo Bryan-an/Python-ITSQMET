{
 "cells": [
  {
   "cell_type": "code",
   "execution_count": 6,
   "id": "520391ef",
   "metadata": {},
   "outputs": [
    {
     "name": "stdout",
     "output_type": "stream",
     "text": [
      "Soy Diego González tengo 39 años y estudio Software\n"
     ]
    }
   ],
   "source": [
    "class Estudiante(object): #creamos la clase padre\n",
    "    def __init__(self, nombre, apellido, edad): #Definiendo los parámetros nombre, apellido, edad\n",
    "        self.nombre = nombre #Declaramos que el atributo nombre es igual al argumento nombre\n",
    "        self.apellido = apellido #Declaramos que el atributo apellido es igual al argumento apellido\n",
    "        self.edad = edad #Declaramos que el atributo edad es igual al argumento edad\n",
    "        \n",
    "        \n",
    "class itsqmet(estudiante):\n",
    "    def presentarse(self):\n",
    "        print(f\"Soy {self.nombre} {self.apellido} tengo {self.edad} años y estudio Software\")\n",
    "        \n",
    "        \n",
    "Diego = itsqmet('Diego', 'González', 39) # Indicamos argumentos edad, nombre y apellido\n",
    "Diego.presentarse() # Llamamos al método y Diego se presenta"
   ]
  },
  {
   "cell_type": "code",
   "execution_count": 15,
   "id": "33daac83",
   "metadata": {},
   "outputs": [
    {
     "name": "stdout",
     "output_type": "stream",
     "text": [
      "Soy Diego Gonzalez tengo 39 años y estudio Software\n",
      "Estudio en el Instituto Teconológico Superior Quito Metropolitano\n"
     ]
    }
   ],
   "source": [
    "class Estudiante(object): #creamos la clase padre\n",
    "    def __init__(self, nombre, apellido, edad): #Definiendo los parámetros nombre, apellido, edad\n",
    "        self.nombre = nombre #Declaramos que el atributo nombre es igual al argumento nombre\n",
    "        self.apellido = apellido #Declaramos que el atributo apellido es igual al argumento apellido\n",
    "        self.edad = edad #Declaramos que el atributo edad es igual al argumento edad\n",
    "        \n",
    "        \n",
    "class itsqmet(object):\n",
    "    def presentartitulo(self):\n",
    "        print(\"Estudio en el Instituto Teconológico Superior Quito Metropolitano\")\n",
    "        \n",
    "        \n",
    "class software(Estudiante, itsqmet):\n",
    "    def presentarse(self):\n",
    "        print(f\"Soy {self.nombre} {self.apellido} tengo {self.edad} años y estudio Software\")\n",
    "        \n",
    "        \n",
    "Diego = software('Diego', 'Gonzalez', 39)\n",
    "Diego.presentarse()\n",
    "Diego.presentartitulo()"
   ]
  },
  {
   "cell_type": "code",
   "execution_count": 22,
   "id": "c3924656",
   "metadata": {},
   "outputs": [
    {
     "name": "stdout",
     "output_type": "stream",
     "text": [
      "Color: Red; Licence plate: dfd3434; Year: 1997\n",
      "Color: Red; Licence plate: dfd3434; Year: 1997; Make: Mazda\n",
      "Color: Red; Licence plate: dfd3434; Year: 1997; Model: M45\n"
     ]
    }
   ],
   "source": [
    "# Crear una clase con los objetos con la clase padre vehículos y las clases marca y modelo\n",
    "class Vehicle:\n",
    "    def __init__(self, color, licence_plate, year):\n",
    "        self.color = color\n",
    "        self.licence_plate = licence_plate\n",
    "        self.year = year\n",
    "        \n",
    "    def to_string(self):\n",
    "        print(f\"Color: {self.color}; Licence plate: {self.licence_plate}; Year: {self.year}\")\n",
    "        \n",
    "class Make(Vehicle):\n",
    "    def __init__(self, color, licence_plate, year, make):\n",
    "        super().__init__(color, licence_plate, year)\n",
    "        self.make = make\n",
    "        \n",
    "    def to_string(self):\n",
    "        print(f\"Color: {self.color}; Licence plate: {self.licence_plate}; Year: {self.year}; Make: {self.make}\")\n",
    "        \n",
    "class Model(Vehicle):\n",
    "    def __init__(self, color, licence_plate, year, model):\n",
    "        super().__init__(color, licence_plate, year)\n",
    "        self.model = model\n",
    "        \n",
    "    def to_string(self):\n",
    "        print(f\"Color: {self.color}; Licence plate: {self.licence_plate}; Year: {self.year}; Model: {self.model}\")\n",
    "        \n",
    "        \n",
    "car = Vehicle('Red', 'dfd3434', 1997)\n",
    "car.to_string()\n",
    "\n",
    "car1 = Make('Red', 'dfd3434', 1997, 'Mazda')\n",
    "car1.to_string()\n",
    "\n",
    "car2 = Model('Red', 'dfd3434', 1997, 'M45')\n",
    "car2.to_string()"
   ]
  },
  {
   "cell_type": "code",
   "execution_count": 23,
   "id": "c5df3e66",
   "metadata": {},
   "outputs": [
    {
     "name": "stdout",
     "output_type": "stream",
     "text": [
      "(<class '__main__.Animal'>,)\n"
     ]
    }
   ],
   "source": [
    "# Definimos la clase padre\n",
    "class Animal:\n",
    "    pass\n",
    "\n",
    "#Creamos la clase hija que hereda de la clase padre\n",
    "class Perro(Animal):\n",
    "    pass\n",
    "\n",
    "print(Perro.__bases__)"
   ]
  },
  {
   "cell_type": "code",
   "execution_count": 30,
   "id": "c999e8db",
   "metadata": {},
   "outputs": [
    {
     "name": "stdout",
     "output_type": "stream",
     "text": [
      "Soy un animal del tipo Perro\n"
     ]
    }
   ],
   "source": [
    "class Animal:\n",
    "    def __init__(self, especie, edad):\n",
    "        self.especie = especie\n",
    "        self.edad = edad\n",
    "        \n",
    "    # Método\n",
    "    def hablar(self):\n",
    "        # Método vacío\n",
    "        pass\n",
    "    \n",
    "    def moverse(self):\n",
    "        pass\n",
    "    \n",
    "    def describirse(self):\n",
    "        print(\"Soy un animal del tipo\", type(self).__name__)\n",
    "        \n",
    "\n",
    "class Perro(Animal):\n",
    "    pass\n",
    "        \n",
    "        \n",
    "mi_perro = Perro('mamífero', 10)\n",
    "mi_perro.describirse()"
   ]
  },
  {
   "cell_type": "code",
   "execution_count": 32,
   "id": "d684001e",
   "metadata": {},
   "outputs": [
    {
     "name": "stdout",
     "output_type": "stream",
     "text": [
      "Mamífero 7 Diego\n"
     ]
    }
   ],
   "source": [
    "class Perro(Animal):\n",
    "    def __init__(self, especie, edad, dueño):\n",
    "        super().__init__(especie, edad)\n",
    "        self.dueño = dueño\n",
    "    \n",
    "mi_perro = Perro('Mamífero', 7, 'Diego')\n",
    "print(mi_perro.especie, mi_perro.edad, mi_perro.dueño)"
   ]
  },
  {
   "cell_type": "code",
   "execution_count": 35,
   "id": "83b83b17",
   "metadata": {},
   "outputs": [
    {
     "name": "stdout",
     "output_type": "stream",
     "text": [
      "El perímetro del cuadrado es 16 cm\n",
      "El area del cuadrado es 16 cm2\n",
      "El color de la figura es Rojo\n",
      "El perímetro del triángulo es 56 cm\n",
      "El area del triángulo es 12.0 cm2\n",
      "El color de la figura es Azul\n"
     ]
    }
   ],
   "source": [
    "class Figure:\n",
    "    def __init__(self, color):\n",
    "        self.color = color\n",
    "        \n",
    "    def print_color(self):\n",
    "        print(f\"El color de la figura es {self.color}\")\n",
    "\n",
    "class Square(Figure):\n",
    "    def __init__(self, color, side):\n",
    "        super().__init__(color)\n",
    "        self.side = side\n",
    "        \n",
    "    def calculate_perimeter(self):\n",
    "        print(f\"El perímetro del cuadrado es {self.side * 4} cm\")\n",
    "        \n",
    "    def calculate_area(self):\n",
    "        print(f\"El area del cuadrado es {self.side ** 2} cm2\")\n",
    "        \n",
    "        \n",
    "class Triangle(Figure):\n",
    "    def __init__(self, color, side1, side2, base, height):\n",
    "        super().__init__(color)\n",
    "        self.side1 = side1\n",
    "        self.side2 = side2\n",
    "        self.base = base\n",
    "        self.height = height\n",
    "        \n",
    "    def calculate_perimeter(self):\n",
    "        print(f\"El perímetro del triángulo es {self.side1 + self.side2 + self.base} cm\")\n",
    "        \n",
    "    def calculate_area(self):\n",
    "        print(f\"El area del triángulo es {(self.base * self.height) / 2} cm2\")\n",
    "        \n",
    "        \n",
    "figure1 = Square('Rojo', 4)\n",
    "figure1.calculate_perimeter()\n",
    "figure1.calculate_area()\n",
    "figure1.print_color()\n",
    "\n",
    "figure2 = Triangle('Azul', 25, 25, 6, 4)\n",
    "figure2.calculate_perimeter()\n",
    "figure2.calculate_area()\n",
    "figure2.print_color()"
   ]
  },
  {
   "cell_type": "code",
   "execution_count": null,
   "id": "2e8e42b2",
   "metadata": {},
   "outputs": [],
   "source": []
  }
 ],
 "metadata": {
  "kernelspec": {
   "display_name": "Python 3 (ipykernel)",
   "language": "python",
   "name": "python3"
  },
  "language_info": {
   "codemirror_mode": {
    "name": "ipython",
    "version": 3
   },
   "file_extension": ".py",
   "mimetype": "text/x-python",
   "name": "python",
   "nbconvert_exporter": "python",
   "pygments_lexer": "ipython3",
   "version": "3.9.7"
  }
 },
 "nbformat": 4,
 "nbformat_minor": 5
}
