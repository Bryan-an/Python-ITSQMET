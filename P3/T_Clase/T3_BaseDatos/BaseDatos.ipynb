{
 "cells": [
  {
   "cell_type": "code",
   "execution_count": 1,
   "id": "1a0a38c6",
   "metadata": {},
   "outputs": [
    {
     "name": "stdout",
     "output_type": "stream",
     "text": [
      "<mysql.connector.connection_cext.CMySQLConnection object at 0x000001BFE09B9DC0>\n"
     ]
    }
   ],
   "source": [
    "import mysql.connector \n",
    "\n",
    "mydb = mysql.connector.connect(\n",
    "    host=\"localhost\",\n",
    "    user=\"root\",\n",
    "    password=\"\"\n",
    ")\n",
    "\n",
    "print(mydb)"
   ]
  },
  {
   "cell_type": "code",
   "execution_count": 5,
   "id": "5d8b8be0",
   "metadata": {},
   "outputs": [
    {
     "name": "stdout",
     "output_type": "stream",
     "text": [
      "Collecting mysql-connector-python\n",
      "  Downloading mysql_connector_python-8.0.30-cp39-cp39-win_amd64.whl (7.8 MB)\n",
      "Collecting protobuf<=3.20.1,>=3.11.0\n",
      "  Downloading protobuf-3.20.1-cp39-cp39-win_amd64.whl (904 kB)\n",
      "Installing collected packages: protobuf, mysql-connector-python\n",
      "Successfully installed mysql-connector-python-8.0.30 protobuf-3.20.1\n",
      "Note: you may need to restart the kernel to use updated packages.\n"
     ]
    }
   ],
   "source": [
    "pip install mysql-connector-python"
   ]
  },
  {
   "cell_type": "code",
   "execution_count": 2,
   "id": "9eea3221",
   "metadata": {},
   "outputs": [],
   "source": [
    "import mysql.connector\n",
    "\n",
    "mydb = mysql.connector.connect(\n",
    "    host=\"localhost\",\n",
    "    user=\"root\",\n",
    "    password=\"\"\n",
    ")\n",
    "\n",
    "mycursor = mydb.cursor()\n",
    "\n",
    "mycursor.execute(\"CREATE DATABASE Matutino\")"
   ]
  },
  {
   "cell_type": "code",
   "execution_count": 3,
   "id": "988f334f",
   "metadata": {},
   "outputs": [
    {
     "name": "stdout",
     "output_type": "stream",
     "text": [
      "('adventureworks',)\n",
      "('album',)\n",
      "('app_web_2_p1_cine',)\n",
      "('app_web_2_p2_examen',)\n",
      "('app_web_2_p2_permisos',)\n",
      "('barberia_don_juan',)\n",
      "('bd_peliculas',)\n",
      "('bdd2-d1_biblioteca',)\n",
      "('bdd2_pf_biblioteca',)\n",
      "('blog',)\n",
      "('bookingdb',)\n",
      "('calidad_p2_t7_control_actividades',)\n",
      "('customers',)\n",
      "('db2_p2_t1_renta_peliculas',)\n",
      "('db2_p3_t1_company',)\n",
      "('db2_p3_t1_escolastico',)\n",
      "('db2_p3_t1_usuarios',)\n",
      "('db_example',)\n",
      "('db_itsqmet_burger',)\n",
      "('db_matt',)\n",
      "('factu_pim',)\n",
      "('hibernate_relationships',)\n",
      "('hibernatetests',)\n",
      "('information_schema',)\n",
      "('l1_ejercicio_reservas',)\n",
      "('login',)\n",
      "('matutino',)\n",
      "('mydatabase',)\n",
      "('mysql',)\n",
      "('northwind',)\n",
      "('orders_management_crud',)\n",
      "('performance_schema',)\n",
      "('poo2_ep1_db_rrhh',)\n",
      "('poo2_p2_t2_agenda',)\n",
      "('poo2_tc3_grades',)\n",
      "('rithv2_white',)\n",
      "('school',)\n",
      "('site',)\n",
      "('sys',)\n",
      "('t1_ventas',)\n",
      "('tasksdb',)\n",
      "('two_kash_app',)\n",
      "('ventas2',)\n",
      "('web_p3_t2_wordpress',)\n",
      "('wp_melian_tienda',)\n",
      "('wp_republica_deportes',)\n"
     ]
    }
   ],
   "source": [
    "import mysql.connector\n",
    "\n",
    "mydb = mysql.connector.connect(\n",
    "    host=\"localhost\",\n",
    "    user=\"root\",\n",
    "    password=\"\"\n",
    ")\n",
    "\n",
    "mycursor = mydb.cursor()\n",
    "\n",
    "mycursor.execute(\"SHOW DATABASES\")\n",
    "\n",
    "for x in mycursor:\n",
    "    print(x)"
   ]
  },
  {
   "cell_type": "code",
   "execution_count": 4,
   "id": "7c0a6715",
   "metadata": {},
   "outputs": [
    {
     "name": "stdout",
     "output_type": "stream",
     "text": [
      "[[3 1 3]\n",
      " [3 9 4]\n",
      " [2 2 3]]\n"
     ]
    }
   ],
   "source": [
    "import numpy as np\n",
    "a = np.random.randint(10, size=(3,3))\n",
    "np.save('arr', a)\n",
    "a2 = np.load('arr.npy')\n",
    "print(a2)"
   ]
  },
  {
   "cell_type": "code",
   "execution_count": null,
   "id": "277f94fa",
   "metadata": {},
   "outputs": [],
   "source": []
  }
 ],
 "metadata": {
  "kernelspec": {
   "display_name": "Python 3 (ipykernel)",
   "language": "python",
   "name": "python3"
  },
  "language_info": {
   "codemirror_mode": {
    "name": "ipython",
    "version": 3
   },
   "file_extension": ".py",
   "mimetype": "text/x-python",
   "name": "python",
   "nbconvert_exporter": "python",
   "pygments_lexer": "ipython3",
   "version": "3.9.7"
  }
 },
 "nbformat": 4,
 "nbformat_minor": 5
}
