{
 "cells": [
  {
   "cell_type": "code",
   "execution_count": 8,
   "id": "e2590b52",
   "metadata": {},
   "outputs": [],
   "source": [
    "from io import open\n",
    "\n",
    "archivo_texto = open('archivo.txt', 'w', encoding='utf-8') # se debe incluir el modo de códificación utf-8 si se usa caracteres especiales\n",
    "frase = 'Estupendo día para estudiar Python'\n",
    "archivo_texto.write(frase)\n",
    "archivo_texto.close()"
   ]
  },
  {
   "cell_type": "code",
   "execution_count": 5,
   "id": "84851953",
   "metadata": {},
   "outputs": [],
   "source": [
    "# Código profe\n",
    "from io import open\n",
    "\n",
    "archivo_texto = open('archivo1.txt', 'w')\n",
    "frase = 'Estupendo dia para estudiar python'\n",
    "archivo_texto.write(frase)\n",
    "archivo_texto.close()"
   ]
  },
  {
   "cell_type": "code",
   "execution_count": null,
   "id": "0abbbad4",
   "metadata": {},
   "outputs": [],
   "source": [
    "# Código profe\n",
    "from io import open\n",
    "\n",
    "archivo_texto=open(\"archivo.txt\", \"w\")\n",
    "frase=u\"Estupendo dia para estudiar python  el miercoles\"\n",
    "archivo_texto.write(frase)\n",
    "archivo_texto.close()"
   ]
  },
  {
   "cell_type": "code",
   "execution_count": 10,
   "id": "c63cd025",
   "metadata": {},
   "outputs": [
    {
     "name": "stdout",
     "output_type": "stream",
     "text": [
      "Número de palabras en el archivo de texto: 5\n"
     ]
    }
   ],
   "source": [
    "archivo = open(\"./archivo1.txt\", \"rt\")\n",
    "datos = archivo.read()\n",
    "palabras = datos.split()\n",
    "print('Número de palabras en el archivo de texto:', len(palabras))"
   ]
  },
  {
   "cell_type": "code",
   "execution_count": 12,
   "id": "6ef44c92",
   "metadata": {},
   "outputs": [
    {
     "name": "stdout",
     "output_type": "stream",
     "text": [
      "Número de palabras en el archivo de texto: 104\n"
     ]
    }
   ],
   "source": [
    "archivo = open(\"archivo.txt\", \"r\")\n",
    "datos = archivo.read()\n",
    "palabras = datos.split()\n",
    "print('Número de palabras en el archivo de texto:', len(palabras))"
   ]
  },
  {
   "cell_type": "code",
   "execution_count": 14,
   "id": "ca5a4cf0",
   "metadata": {},
   "outputs": [
    {
     "name": "stdout",
     "output_type": "stream",
     "text": [
      "La cadena original es: Esta es una prueba de python, Esta es una prueba de python, Esta es una prueba de python, \n",
      "El número de palabras en cadena es: 18\n",
      "El número de caracteres en cadena es: 90\n"
     ]
    }
   ],
   "source": [
    "test_string = \"Esta es una prueba de python, Esta es una prueba de python, Esta es una prueba de python, \"\n",
    "print(\"La cadena original es: \" + test_string)\n",
    "res = len(test_string.split())\n",
    "print(\"El número de palabras en cadena es:\", str(res))\n",
    "print(\"El número de caracteres en cadena es:\", len(test_string))"
   ]
  },
  {
   "cell_type": "code",
   "execution_count": null,
   "id": "433984f5",
   "metadata": {},
   "outputs": [],
   "source": []
  }
 ],
 "metadata": {
  "kernelspec": {
   "display_name": "Python 3 (ipykernel)",
   "language": "python",
   "name": "python3"
  },
  "language_info": {
   "codemirror_mode": {
    "name": "ipython",
    "version": 3
   },
   "file_extension": ".py",
   "mimetype": "text/x-python",
   "name": "python",
   "nbconvert_exporter": "python",
   "pygments_lexer": "ipython3",
   "version": "3.9.7"
  }
 },
 "nbformat": 4,
 "nbformat_minor": 5
}
