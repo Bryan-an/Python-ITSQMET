{
 "cells": [
  {
   "cell_type": "code",
   "execution_count": 1,
   "id": "50e7b370",
   "metadata": {},
   "outputs": [
    {
     "name": "stdout",
     "output_type": "stream",
     "text": [
      "Hola a todos Soy Pythonista\n"
     ]
    }
   ],
   "source": [
    "# operador de concatenación\n",
    "\n",
    "cadena1='Hola a todos'\n",
    "cadena2='Soy Pythonista'\n",
    "print(cadena1 + ' ' + cadena2)"
   ]
  },
  {
   "cell_type": "code",
   "execution_count": 2,
   "id": "ddc56c62",
   "metadata": {},
   "outputs": [
    {
     "name": "stdout",
     "output_type": "stream",
     "text": [
      "Python es un lenguaje de programación\n"
     ]
    }
   ],
   "source": [
    "string1='Python'\n",
    "string2='es'\n",
    "string3='un'\n",
    "string4='lenguaje'\n",
    "string5='de programación'\n",
    "print(string1 + ' ' + string2 + ' ' + string3 + ' ' + string4 + ' ' + string5)"
   ]
  },
  {
   "cell_type": "code",
   "execution_count": 4,
   "id": "68d206be",
   "metadata": {},
   "outputs": [
    {
     "data": {
      "text/plain": [
       "True"
      ]
     },
     "execution_count": 4,
     "metadata": {},
     "output_type": "execute_result"
    }
   ],
   "source": [
    "# operador mayor que\n",
    "\n",
    "a=3\n",
    "b=2\n",
    "a>b"
   ]
  },
  {
   "cell_type": "code",
   "execution_count": 5,
   "id": "c1b7e037",
   "metadata": {},
   "outputs": [
    {
     "data": {
      "text/plain": [
       "True"
      ]
     },
     "execution_count": 5,
     "metadata": {},
     "output_type": "execute_result"
    }
   ],
   "source": [
    "# operador menor que\n",
    "a=2\n",
    "b=3\n",
    "a<b"
   ]
  },
  {
   "cell_type": "code",
   "execution_count": 6,
   "id": "d3f49cff",
   "metadata": {},
   "outputs": [
    {
     "data": {
      "text/plain": [
       "False"
      ]
     },
     "execution_count": 6,
     "metadata": {},
     "output_type": "execute_result"
    }
   ],
   "source": [
    "# operador  menor que\n",
    "a=3\n",
    "b=3\n",
    "a<b"
   ]
  },
  {
   "cell_type": "code",
   "execution_count": 7,
   "id": "8046212e",
   "metadata": {},
   "outputs": [
    {
     "data": {
      "text/plain": [
       "True"
      ]
     },
     "execution_count": 7,
     "metadata": {},
     "output_type": "execute_result"
    }
   ],
   "source": [
    "# operador igual que\n",
    "a=3\n",
    "b=3\n",
    "a==b"
   ]
  },
  {
   "cell_type": "code",
   "execution_count": 9,
   "id": "7a349996",
   "metadata": {},
   "outputs": [
    {
     "data": {
      "text/plain": [
       "True"
      ]
     },
     "execution_count": 9,
     "metadata": {},
     "output_type": "execute_result"
    }
   ],
   "source": [
    "# operador diferernte de o distinto de\n",
    "a=2\n",
    "b=3\n",
    "a!=b"
   ]
  },
  {
   "cell_type": "code",
   "execution_count": 10,
   "id": "6ecfaabd",
   "metadata": {},
   "outputs": [
    {
     "name": "stdout",
     "output_type": "stream",
     "text": [
      "El valor de la suma es 101\n"
     ]
    }
   ],
   "source": [
    "# operador más o suma\n",
    "a=45\n",
    "b=56\n",
    "c=a+b\n",
    "print('El valor de la suma es', c)"
   ]
  },
  {
   "cell_type": "code",
   "execution_count": 11,
   "id": "0d46b497",
   "metadata": {},
   "outputs": [
    {
     "name": "stdout",
     "output_type": "stream",
     "text": [
      "El valor de la resta es -11\n"
     ]
    }
   ],
   "source": [
    "# operador menos o resta\n",
    "a=45\n",
    "b=56\n",
    "c=a-b\n",
    "print('El valor de la resta es', c)"
   ]
  },
  {
   "cell_type": "code",
   "execution_count": 12,
   "id": "9bac1dc3",
   "metadata": {},
   "outputs": [
    {
     "name": "stdout",
     "output_type": "stream",
     "text": [
      "El valor de la multiplicación es 2520\n"
     ]
    }
   ],
   "source": [
    "# operador asterisco o multiplicación \n",
    "a=45\n",
    "b=56\n",
    "c=a*b\n",
    "print('El valor de la multiplicación es', c)"
   ]
  },
  {
   "cell_type": "code",
   "execution_count": 14,
   "id": "f198b778",
   "metadata": {},
   "outputs": [
    {
     "name": "stdout",
     "output_type": "stream",
     "text": [
      "El valor de la división es 8.035714285714286\n"
     ]
    }
   ],
   "source": [
    "# operador slash(/) o división \n",
    "a=450\n",
    "b=56\n",
    "c=a/b\n",
    "print('El valor de la división es', c)"
   ]
  },
  {
   "cell_type": "code",
   "execution_count": 18,
   "id": "a0f9e193",
   "metadata": {},
   "outputs": [
    {
     "name": "stdout",
     "output_type": "stream",
     "text": [
      "El valor del resto de la división es 2\n"
     ]
    }
   ],
   "source": [
    "# operador % es para el resto de la división\n",
    "a=450\n",
    "b=56\n",
    "c=a%b\n",
    "print('El valor del resto de la división es', c)"
   ]
  },
  {
   "cell_type": "code",
   "execution_count": 19,
   "id": "c46240a8",
   "metadata": {},
   "outputs": [
    {
     "name": "stdout",
     "output_type": "stream",
     "text": [
      "El valor de la parte entera de la división es 8\n"
     ]
    }
   ],
   "source": [
    "# operador parte entera de la división //\n",
    "a=450\n",
    "b=56\n",
    "c=a//b\n",
    "print('El valor de la parte entera de la división es', c)"
   ]
  },
  {
   "cell_type": "code",
   "execution_count": 20,
   "id": "baebaf6e",
   "metadata": {},
   "outputs": [
    {
     "data": {
      "text/plain": [
       "8.035714285714286"
      ]
     },
     "execution_count": 20,
     "metadata": {},
     "output_type": "execute_result"
    }
   ],
   "source": [
    "450/56"
   ]
  },
  {
   "cell_type": "code",
   "execution_count": 21,
   "id": "a076dd78",
   "metadata": {},
   "outputs": [
    {
     "name": "stdout",
     "output_type": "stream",
     "text": [
      "El valor de la potencia es 64\n"
     ]
    }
   ],
   "source": [
    "# operador potencia de un número **\n",
    "a=2\n",
    "b=6\n",
    "c=2**6\n",
    "print('El valor de la potencia es', c)"
   ]
  },
  {
   "cell_type": "code",
   "execution_count": 22,
   "id": "fcfc3443",
   "metadata": {},
   "outputs": [
    {
     "name": "stdout",
     "output_type": "stream",
     "text": [
      "6\n"
     ]
    }
   ],
   "source": [
    "x=5\n",
    "x+=1\n",
    "print(x)"
   ]
  },
  {
   "cell_type": "code",
   "execution_count": 23,
   "id": "355daa4e",
   "metadata": {},
   "outputs": [
    {
     "name": "stdout",
     "output_type": "stream",
     "text": [
      "4\n"
     ]
    }
   ],
   "source": [
    "x=5\n",
    "x-=1\n",
    "print(x)"
   ]
  },
  {
   "cell_type": "code",
   "execution_count": 24,
   "id": "1a98c6ea",
   "metadata": {},
   "outputs": [
    {
     "name": "stdout",
     "output_type": "stream",
     "text": [
      "5\n"
     ]
    }
   ],
   "source": [
    "x=5\n",
    "x*=1\n",
    "print(x)"
   ]
  },
  {
   "cell_type": "code",
   "execution_count": 25,
   "id": "f9ac139d",
   "metadata": {},
   "outputs": [
    {
     "name": "stdout",
     "output_type": "stream",
     "text": [
      "5\n"
     ]
    }
   ],
   "source": [
    "x=5\n",
    "x|=1\n",
    "print(x)"
   ]
  },
  {
   "cell_type": "code",
   "execution_count": 26,
   "id": "85712bc8",
   "metadata": {},
   "outputs": [
    {
     "name": "stdout",
     "output_type": "stream",
     "text": [
      "4\n"
     ]
    }
   ],
   "source": [
    "x=5\n",
    "x^=1\n",
    "print(x)"
   ]
  },
  {
   "cell_type": "code",
   "execution_count": 29,
   "id": "fe44bdde",
   "metadata": {},
   "outputs": [
    {
     "name": "stdout",
     "output_type": "stream",
     "text": [
      "2\n"
     ]
    }
   ],
   "source": [
    "x=5\n",
    "x>>=1\n",
    "print(x)"
   ]
  },
  {
   "cell_type": "code",
   "execution_count": 30,
   "id": "0048d24a",
   "metadata": {},
   "outputs": [
    {
     "name": "stdout",
     "output_type": "stream",
     "text": [
      "10\n"
     ]
    }
   ],
   "source": [
    "x=5\n",
    "x<<=1\n",
    "print(x)"
   ]
  },
  {
   "cell_type": "code",
   "execution_count": 33,
   "id": "5f9cd95f",
   "metadata": {},
   "outputs": [
    {
     "name": "stdout",
     "output_type": "stream",
     "text": [
      "The result is: 3.0449178576279155e-11\n"
     ]
    }
   ],
   "source": [
    "# Resolver la siguiente expresión\n",
    "# ((34x+y)/(6^xy+z)^6)/56xyz\n",
    "x=1\n",
    "y=2\n",
    "z=3\n",
    "result = ((34*x+y)/(((6**(x*y))+z)**6))/(56*x*y*z)\n",
    "print('The result is:', result)"
   ]
  },
  {
   "cell_type": "code",
   "execution_count": 34,
   "id": "a101707c",
   "metadata": {},
   "outputs": [
    {
     "data": {
      "text/plain": [
       "True"
      ]
     },
     "execution_count": 34,
     "metadata": {},
     "output_type": "execute_result"
    }
   ],
   "source": [
    "lista = [1, 2, 3, 4, 5, 6, 7, 8, 9, 0]\n",
    "0 in lista"
   ]
  },
  {
   "cell_type": "code",
   "execution_count": 35,
   "id": "11b996c2",
   "metadata": {},
   "outputs": [
    {
     "data": {
      "text/plain": [
       "False"
      ]
     },
     "execution_count": 35,
     "metadata": {},
     "output_type": "execute_result"
    }
   ],
   "source": [
    "-8 in lista"
   ]
  },
  {
   "cell_type": "code",
   "execution_count": 36,
   "id": "97e21c0a",
   "metadata": {},
   "outputs": [
    {
     "data": {
      "text/plain": [
       "True"
      ]
     },
     "execution_count": 36,
     "metadata": {},
     "output_type": "execute_result"
    }
   ],
   "source": [
    "-8 not in lista"
   ]
  },
  {
   "cell_type": "code",
   "execution_count": 37,
   "id": "181faca3",
   "metadata": {},
   "outputs": [
    {
     "data": {
      "text/plain": [
       "True"
      ]
     },
     "execution_count": 37,
     "metadata": {},
     "output_type": "execute_result"
    }
   ],
   "source": [
    "lista2 = [1, 2, 3, 4, 5, 6, 7, 8, 9, 10, 11, 12, 13, 14, 15, 16, 17, 18, 19, 20, 21, 22, 23, 24, 25, 26, 27, 28, 29, 30]\n",
    "2 and 4 and 6 and 8 and 10 in lista2"
   ]
  },
  {
   "cell_type": "code",
   "execution_count": 38,
   "id": "73dd7456",
   "metadata": {},
   "outputs": [
    {
     "data": {
      "text/plain": [
       "True"
      ]
     },
     "execution_count": 38,
     "metadata": {},
     "output_type": "execute_result"
    }
   ],
   "source": [
    "not -11 in lista2"
   ]
  },
  {
   "cell_type": "code",
   "execution_count": 39,
   "id": "0165ebe4",
   "metadata": {},
   "outputs": [
    {
     "data": {
      "text/plain": [
       "True"
      ]
     },
     "execution_count": 39,
     "metadata": {},
     "output_type": "execute_result"
    }
   ],
   "source": [
    "-11 not in lista2"
   ]
  },
  {
   "cell_type": "code",
   "execution_count": 40,
   "id": "e0c2a139",
   "metadata": {},
   "outputs": [
    {
     "data": {
      "text/plain": [
       "True"
      ]
     },
     "execution_count": 40,
     "metadata": {},
     "output_type": "execute_result"
    }
   ],
   "source": [
    "1 and 3 and 5 and 7 and 9 and 11 and 13 and 15 and 17 and 19 and 21 and 23 and 25 and 27 and 29 in lista2"
   ]
  },
  {
   "cell_type": "code",
   "execution_count": 41,
   "id": "8ebe4b69",
   "metadata": {},
   "outputs": [
    {
     "data": {
      "text/plain": [
       "False"
      ]
     },
     "execution_count": 41,
     "metadata": {},
     "output_type": "execute_result"
    }
   ],
   "source": [
    "-100 in lista"
   ]
  },
  {
   "cell_type": "code",
   "execution_count": 42,
   "id": "d2d012ba",
   "metadata": {},
   "outputs": [
    {
     "data": {
      "text/plain": [
       "True"
      ]
     },
     "execution_count": 42,
     "metadata": {},
     "output_type": "execute_result"
    }
   ],
   "source": [
    "-100 not in lista2"
   ]
  },
  {
   "cell_type": "code",
   "execution_count": 44,
   "id": "610cd1f1",
   "metadata": {},
   "outputs": [
    {
     "name": "stdout",
     "output_type": "stream",
     "text": [
      "Ingrese número 1: 2\n",
      "Ingrese número 2: 8\n",
      "La suma es: 10\n",
      "La comparación si es mayor que es: False\n",
      "La comparación si es menor que es: True\n",
      "La resta es: -6\n",
      "El residuo es: 2\n",
      "La parte entera de la división es: 0\n",
      "La potencia del primer número es: 32\n",
      "La potencia del segundo número es: 32768\n"
     ]
    }
   ],
   "source": [
    "# Ingresar dos números por teclado, sumarlos, comparar si es mayor que, menor que, restarlos, obtener el residuo, \n",
    "# la parte entera de la división y elevarlos a la potencia 5\n",
    "\n",
    "a = int(input('Ingrese número 1: '))\n",
    "b = int(input('Ingrese número 2: '))\n",
    "c = a + b\n",
    "d = a > b\n",
    "e = a < b\n",
    "res = a - b\n",
    "residuo = a % b\n",
    "entera = a // b\n",
    "potencia1 = a ** 5\n",
    "potencia2 = b ** 5\n",
    "print('La suma es:', c)\n",
    "print('La comparación si es mayor que es:', d)\n",
    "print('La comparación si es menor que es:', e)\n",
    "print('La resta es:', res)\n",
    "print('El residuo es:', residuo)\n",
    "print('La parte entera de la división es:', entera)\n",
    "print('La potencia del primer número es:', potencia1)\n",
    "print('La potencia del segundo número es:', potencia2)"
   ]
  },
  {
   "cell_type": "code",
   "execution_count": null,
   "id": "b3e42650",
   "metadata": {},
   "outputs": [],
   "source": []
  }
 ],
 "metadata": {
  "kernelspec": {
   "display_name": "Python 3 (ipykernel)",
   "language": "python",
   "name": "python3"
  },
  "language_info": {
   "codemirror_mode": {
    "name": "ipython",
    "version": 3
   },
   "file_extension": ".py",
   "mimetype": "text/x-python",
   "name": "python",
   "nbconvert_exporter": "python",
   "pygments_lexer": "ipython3",
   "version": "3.9.7"
  }
 },
 "nbformat": 4,
 "nbformat_minor": 5
}
