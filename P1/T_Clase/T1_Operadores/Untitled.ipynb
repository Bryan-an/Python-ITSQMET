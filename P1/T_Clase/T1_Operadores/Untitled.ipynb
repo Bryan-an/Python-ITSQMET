{
 "cells": [
  {
   "cell_type": "code",
   "execution_count": 1,
   "id": "11e707da",
   "metadata": {},
   "outputs": [
    {
     "name": "stdout",
     "output_type": "stream",
     "text": [
      "Hola a todos Soy Pythonista\n"
     ]
    }
   ],
   "source": [
    "# operador de concatenación\n",
    "\n",
    "cadena1='Hola a todos'\n",
    "cadena2='Soy Pythonista'\n",
    "print(cadena1 + ' ' + cadena2)"
   ]
  },
  {
   "cell_type": "code",
   "execution_count": 2,
   "id": "50ae8089",
   "metadata": {},
   "outputs": [
    {
     "name": "stdout",
     "output_type": "stream",
     "text": [
      "Python es un lenguaje de programación\n"
     ]
    }
   ],
   "source": [
    "string1='Python'\n",
    "string2='es'\n",
    "string3='un'\n",
    "string4='lenguaje'\n",
    "string5='de programación'\n",
    "print(string1 + ' ' + string2 + ' ' + string3 + ' ' + string4 + ' ' + string5)"
   ]
  },
  {
   "cell_type": "code",
   "execution_count": 4,
   "id": "c80c1cab",
   "metadata": {},
   "outputs": [
    {
     "data": {
      "text/plain": [
       "True"
      ]
     },
     "execution_count": 4,
     "metadata": {},
     "output_type": "execute_result"
    }
   ],
   "source": [
    "# operador mayor que\n",
    "\n",
    "a=3\n",
    "b=2\n",
    "a>b"
   ]
  },
  {
   "cell_type": "code",
   "execution_count": 5,
   "id": "6fefe961",
   "metadata": {},
   "outputs": [
    {
     "data": {
      "text/plain": [
       "True"
      ]
     },
     "execution_count": 5,
     "metadata": {},
     "output_type": "execute_result"
    }
   ],
   "source": [
    "# operador menor que\n",
    "a=2\n",
    "b=3\n",
    "a<b"
   ]
  },
  {
   "cell_type": "code",
   "execution_count": 6,
   "id": "b81619ee",
   "metadata": {},
   "outputs": [
    {
     "data": {
      "text/plain": [
       "False"
      ]
     },
     "execution_count": 6,
     "metadata": {},
     "output_type": "execute_result"
    }
   ],
   "source": [
    "# operador  menor que\n",
    "a=3\n",
    "b=3\n",
    "a<b"
   ]
  },
  {
   "cell_type": "code",
   "execution_count": 7,
   "id": "1e92da70",
   "metadata": {},
   "outputs": [
    {
     "data": {
      "text/plain": [
       "True"
      ]
     },
     "execution_count": 7,
     "metadata": {},
     "output_type": "execute_result"
    }
   ],
   "source": [
    "# operador igual que\n",
    "a=3\n",
    "b=3\n",
    "a==b"
   ]
  },
  {
   "cell_type": "code",
   "execution_count": 9,
   "id": "c0e32925",
   "metadata": {},
   "outputs": [
    {
     "data": {
      "text/plain": [
       "True"
      ]
     },
     "execution_count": 9,
     "metadata": {},
     "output_type": "execute_result"
    }
   ],
   "source": [
    "# operador diferernte de o distinto de\n",
    "a=2\n",
    "b=3\n",
    "a!=b"
   ]
  },
  {
   "cell_type": "code",
   "execution_count": 10,
   "id": "37f25f12",
   "metadata": {},
   "outputs": [
    {
     "name": "stdout",
     "output_type": "stream",
     "text": [
      "El valor de la suma es 101\n"
     ]
    }
   ],
   "source": [
    "# operador más o suma\n",
    "a=45\n",
    "b=56\n",
    "c=a+b\n",
    "print('El valor de la suma es', c)"
   ]
  },
  {
   "cell_type": "code",
   "execution_count": 11,
   "id": "c01cd9a2",
   "metadata": {},
   "outputs": [
    {
     "name": "stdout",
     "output_type": "stream",
     "text": [
      "El valor de la resta es -11\n"
     ]
    }
   ],
   "source": [
    "# operador menos o resta\n",
    "a=45\n",
    "b=56\n",
    "c=a-b\n",
    "print('El valor de la resta es', c)"
   ]
  },
  {
   "cell_type": "code",
   "execution_count": 12,
   "id": "c7a12630",
   "metadata": {},
   "outputs": [
    {
     "name": "stdout",
     "output_type": "stream",
     "text": [
      "El valor de la multiplicación es 2520\n"
     ]
    }
   ],
   "source": [
    "# operador asterisco o multiplicación \n",
    "a=45\n",
    "b=56\n",
    "c=a*b\n",
    "print('El valor de la multiplicación es', c)"
   ]
  },
  {
   "cell_type": "code",
   "execution_count": 14,
   "id": "48959472",
   "metadata": {},
   "outputs": [
    {
     "name": "stdout",
     "output_type": "stream",
     "text": [
      "El valor de la división es 8.035714285714286\n"
     ]
    }
   ],
   "source": [
    "# operador slash(/) o división \n",
    "a=450\n",
    "b=56\n",
    "c=a/b\n",
    "print('El valor de la división es', c)"
   ]
  },
  {
   "cell_type": "code",
   "execution_count": 18,
   "id": "0a811d06",
   "metadata": {},
   "outputs": [
    {
     "name": "stdout",
     "output_type": "stream",
     "text": [
      "El valor del resto de la división es 2\n"
     ]
    }
   ],
   "source": [
    "# operador % es para el resto de la división\n",
    "a=450\n",
    "b=56\n",
    "c=a%b\n",
    "print('El valor del resto de la división es', c)"
   ]
  },
  {
   "cell_type": "code",
   "execution_count": 19,
   "id": "8fb6ff3d",
   "metadata": {},
   "outputs": [
    {
     "name": "stdout",
     "output_type": "stream",
     "text": [
      "El valor de la parte entera de la división es 8\n"
     ]
    }
   ],
   "source": [
    "# operador parte entera de la división //\n",
    "a=450\n",
    "b=56\n",
    "c=a//b\n",
    "print('El valor de la parte entera de la división es', c)"
   ]
  },
  {
   "cell_type": "code",
   "execution_count": 20,
   "id": "b45c8e47",
   "metadata": {},
   "outputs": [
    {
     "data": {
      "text/plain": [
       "8.035714285714286"
      ]
     },
     "execution_count": 20,
     "metadata": {},
     "output_type": "execute_result"
    }
   ],
   "source": [
    "450/56"
   ]
  },
  {
   "cell_type": "code",
   "execution_count": 21,
   "id": "7ea1a79b",
   "metadata": {},
   "outputs": [
    {
     "name": "stdout",
     "output_type": "stream",
     "text": [
      "El valor de la potencia es 64\n"
     ]
    }
   ],
   "source": [
    "# operador potencia de un número **\n",
    "a=2\n",
    "b=6\n",
    "c=2**6\n",
    "print('El valor de la potencia es', c)"
   ]
  },
  {
   "cell_type": "code",
   "execution_count": 22,
   "id": "35d4689e",
   "metadata": {},
   "outputs": [
    {
     "name": "stdout",
     "output_type": "stream",
     "text": [
      "6\n"
     ]
    }
   ],
   "source": [
    "x=5\n",
    "x+=1\n",
    "print(x)"
   ]
  },
  {
   "cell_type": "code",
   "execution_count": 23,
   "id": "a17672ab",
   "metadata": {},
   "outputs": [
    {
     "name": "stdout",
     "output_type": "stream",
     "text": [
      "4\n"
     ]
    }
   ],
   "source": [
    "x=5\n",
    "x-=1\n",
    "print(x)"
   ]
  },
  {
   "cell_type": "code",
   "execution_count": 24,
   "id": "4aeb94da",
   "metadata": {},
   "outputs": [
    {
     "name": "stdout",
     "output_type": "stream",
     "text": [
      "5\n"
     ]
    }
   ],
   "source": [
    "x=5\n",
    "x*=1\n",
    "print(x)"
   ]
  },
  {
   "cell_type": "code",
   "execution_count": 25,
   "id": "466f3269",
   "metadata": {},
   "outputs": [
    {
     "name": "stdout",
     "output_type": "stream",
     "text": [
      "5\n"
     ]
    }
   ],
   "source": [
    "x=5\n",
    "x|=1\n",
    "print(x)"
   ]
  },
  {
   "cell_type": "code",
   "execution_count": 26,
   "id": "fa007a89",
   "metadata": {},
   "outputs": [
    {
     "name": "stdout",
     "output_type": "stream",
     "text": [
      "4\n"
     ]
    }
   ],
   "source": [
    "x=5\n",
    "x^=1\n",
    "print(x)"
   ]
  },
  {
   "cell_type": "code",
   "execution_count": 29,
   "id": "97bf1bb1",
   "metadata": {},
   "outputs": [
    {
     "name": "stdout",
     "output_type": "stream",
     "text": [
      "2\n"
     ]
    }
   ],
   "source": [
    "x=5\n",
    "x>>=1\n",
    "print(x)"
   ]
  },
  {
   "cell_type": "code",
   "execution_count": 30,
   "id": "20ea6e10",
   "metadata": {},
   "outputs": [
    {
     "name": "stdout",
     "output_type": "stream",
     "text": [
      "10\n"
     ]
    }
   ],
   "source": [
    "x=5\n",
    "x<<=1\n",
    "print(x)"
   ]
  },
  {
   "cell_type": "code",
   "execution_count": null,
   "id": "f297c03b",
   "metadata": {},
   "outputs": [],
   "source": []
  }
 ],
 "metadata": {
  "kernelspec": {
   "display_name": "Python 3 (ipykernel)",
   "language": "python",
   "name": "python3"
  },
  "language_info": {
   "codemirror_mode": {
    "name": "ipython",
    "version": 3
   },
   "file_extension": ".py",
   "mimetype": "text/x-python",
   "name": "python",
   "nbconvert_exporter": "python",
   "pygments_lexer": "ipython3",
   "version": "3.9.7"
  }
 },
 "nbformat": 4,
 "nbformat_minor": 5
}
