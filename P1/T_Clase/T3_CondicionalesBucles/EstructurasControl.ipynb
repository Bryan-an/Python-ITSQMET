{
 "cells": [
  {
   "cell_type": "code",
   "execution_count": 1,
   "id": "d9f84685",
   "metadata": {},
   "outputs": [
    {
     "name": "stdout",
     "output_type": "stream",
     "text": [
      "Cruzar la calle\n"
     ]
    }
   ],
   "source": [
    "semaforo = 'verde'\n",
    "\n",
    "if semaforo == 'verde':\n",
    "    print(\"Cruzar la calle\")\n",
    "else:\n",
    "    print(\"Esperar\")"
   ]
  },
  {
   "cell_type": "code",
   "execution_count": 2,
   "id": "75708d37",
   "metadata": {},
   "outputs": [
    {
     "name": "stdout",
     "output_type": "stream",
     "text": [
      "¿Cuál es su edad? 39\n",
      "Eres mayor de edad\n"
     ]
    }
   ],
   "source": [
    "# Escribir un programa que pregunte al usuario su edad \n",
    "# y muestre por pantalla si es mayor de edad o no.\n",
    "edad = int(input(\"¿Cuál es su edad? \"))\n",
    "\n",
    "if edad < 18:\n",
    "    print(\"Eres menor de edad\")\n",
    "else:\n",
    "    print(\"Eres mayor de edad\")"
   ]
  },
  {
   "cell_type": "code",
   "execution_count": 6,
   "id": "cbec1a01",
   "metadata": {},
   "outputs": [
    {
     "name": "stdout",
     "output_type": "stream",
     "text": [
      "Ingrese el dividendo: 12\n",
      "Ingrese el divisor: 0\n",
      "¡ERROR! No se puede dividir para 0\n"
     ]
    }
   ],
   "source": [
    "# Escribir un programa que pida al usuario dos números \n",
    "# y muestre por pantalla su división.\n",
    "# Si el divisor es cero el programa debe mostrar un error.\n",
    "\n",
    "# valid = False\n",
    "\n",
    "# while valid == False:\n",
    "#     num1 = int(input(\"Ingrese el primer número: \"))\n",
    "#     num2 = int(input(\"Ingrese el segundo número: \"))\n",
    "\n",
    "#     if num2 == 0:\n",
    "#         print(\"No existe la división para 0\")\n",
    "#     else:\n",
    "#         print(f\"El resultado de la división es {num1/num2}\")\n",
    "#         valid = True\n",
    "\n",
    "n = float(input(\"Ingrese el dividendo: \"))\n",
    "m = float(input(\"Ingrese el divisor: \"))\n",
    "\n",
    "if m == 0:\n",
    "    print(\"¡ERROR! No se puede dividir para 0\")\n",
    "else:\n",
    "    print(\"El resultado de la división de los dos números es: \", n/m)"
   ]
  },
  {
   "cell_type": "code",
   "execution_count": 7,
   "id": "e61564a5",
   "metadata": {},
   "outputs": [
    {
     "name": "stdout",
     "output_type": "stream",
     "text": [
      "Informes del año: 2001\n",
      "Informes del año: 2002\n",
      "Informes del año: 2003\n",
      "Informes del año: 2004\n",
      "Informes del año: 2005\n",
      "Informes del año: 2006\n",
      "Informes del año: 2007\n",
      "Informes del año: 2008\n",
      "Informes del año: 2009\n",
      "Informes del año: 2010\n",
      "Informes del año: 2011\n",
      "Informes del año: 2012\n",
      "Informes del año: 2013\n",
      "Informes del año: 2014\n",
      "Informes del año: 2015\n",
      "Informes del año: 2016\n",
      "Informes del año: 2017\n",
      "Informes del año: 2018\n",
      "Informes del año: 2019\n",
      "Informes del año: 2020\n",
      "Informes del año: 2021\n",
      "Informes del año: 2022\n"
     ]
    }
   ],
   "source": [
    "# Ciclo repetitivo while\n",
    "anio = 2001\n",
    "\n",
    "while anio <= 2022:\n",
    "    print(\"Informes del año:\", str(anio))\n",
    "    anio+=1"
   ]
  },
  {
   "cell_type": "code",
   "execution_count": 8,
   "id": "550fa810",
   "metadata": {},
   "outputs": [
    {
     "name": "stdout",
     "output_type": "stream",
     "text": [
      "Diego\n",
      "Bryan\n",
      "Mayte\n",
      "Luis\n"
     ]
    }
   ],
   "source": [
    "# Ciclo repetitivo for\n",
    "lista = [\"Diego\", \"Bryan\", \"Mayte\", \"Luis\"]\n",
    "\n",
    "for nombre in lista:\n",
    "    print(nombre)"
   ]
  },
  {
   "cell_type": "code",
   "execution_count": 9,
   "id": "4eea18ff",
   "metadata": {},
   "outputs": [
    {
     "name": "stdout",
     "output_type": "stream",
     "text": [
      "Introduzca una palabra: Python\n",
      "Python\n",
      "Python\n",
      "Python\n",
      "Python\n",
      "Python\n",
      "Python\n",
      "Python\n",
      "Python\n",
      "Python\n",
      "Python\n"
     ]
    }
   ],
   "source": [
    "# Escribir un programa que pida al usuario un palabra \n",
    "# y la muestre 10 veces por pantalla\n",
    "palabra = input(\"Introduzca una palabra: \")\n",
    "\n",
    "for i in range(10):\n",
    "    print(palabra)"
   ]
  },
  {
   "cell_type": "code",
   "execution_count": 11,
   "id": "a85bad32",
   "metadata": {},
   "outputs": [
    {
     "name": "stdout",
     "output_type": "stream",
     "text": [
      "¿Cuántos años tiene?20\n",
      "Has cumplido 1 años\n",
      "Has cumplido 2 años\n",
      "Has cumplido 3 años\n",
      "Has cumplido 4 años\n",
      "Has cumplido 5 años\n",
      "Has cumplido 6 años\n",
      "Has cumplido 7 años\n",
      "Has cumplido 8 años\n",
      "Has cumplido 9 años\n",
      "Has cumplido 10 años\n",
      "Has cumplido 11 años\n",
      "Has cumplido 12 años\n",
      "Has cumplido 13 años\n",
      "Has cumplido 14 años\n",
      "Has cumplido 15 años\n",
      "Has cumplido 16 años\n",
      "Has cumplido 17 años\n",
      "Has cumplido 18 años\n",
      "Has cumplido 19 años\n",
      "Has cumplido 20 años\n"
     ]
    }
   ],
   "source": [
    "# Escribir un programa que pregunte al usuario su edad \n",
    "# y muestre por pantalla todos los años que ha cumplido\n",
    "# (desde 1 hasta su edad).\n",
    "\n",
    "# age = int(input(\"Ingrese su edad: \"))\n",
    "\n",
    "# for i in range(1, age + 1):\n",
    "#     print(i)\n",
    "\n",
    "edad = int(input(\"¿Cuántos años tiene?\"))\n",
    "\n",
    "for i in range(edad):\n",
    "    print(\"Has cumplido \" + str(i + 1) + \" años\")"
   ]
  },
  {
   "cell_type": "code",
   "execution_count": 15,
   "id": "58f68336",
   "metadata": {},
   "outputs": [
    {
     "name": "stdout",
     "output_type": "stream",
     "text": [
      "Introduzca la altura del triángulo: 8\n",
      "*\n",
      "**\n",
      "***\n",
      "****\n",
      "*****\n",
      "******\n",
      "*******\n",
      "********\n"
     ]
    }
   ],
   "source": [
    "# Escribir un programa que pida al usuario un número entero \n",
    "# y muestre por pantalla un triángulo rectángulo como el de más abajo,\n",
    "# de altura el número introducido.\n",
    "# *\n",
    "# **\n",
    "# ***\n",
    "# ****\n",
    "# *****\n",
    "\n",
    "height = int(input(\"Introduzca la altura del triángulo: \"))\n",
    "\n",
    "for i in range(height):\n",
    "    for j in range(i + 1):\n",
    "        print(\"*\" , end = '')\n",
    "    print(\"\")"
   ]
  },
  {
   "cell_type": "code",
   "execution_count": 16,
   "id": "67cb2c46",
   "metadata": {},
   "outputs": [
    {
     "name": "stdout",
     "output_type": "stream",
     "text": [
      "Introduce la altura del triángulo (entero positivo): 9\n",
      "1  \n",
      "3 1  \n",
      "5 3 1  \n",
      "7 5 3 1  \n",
      "9 7 5 3 1  \n"
     ]
    }
   ],
   "source": [
    "# Escribir un programa que pida al usuario un número entero \n",
    "# y muestre por pantalla un triángulo rectángulo como el siguiente:\n",
    "# 1\n",
    "# 3 1\n",
    "# 5 3 1\n",
    "# 7 5 3 1\n",
    "# 9 7 5 3 1\n",
    "\n",
    "n = int(input(\"Introduce la altura del triángulo (entero positivo): \"))\n",
    "\n",
    "for i in range(1, n + 1, 2):\n",
    "    for j in range(i, 0, -2):\n",
    "        print(j, end=\" \")\n",
    "    print(\" \")"
   ]
  },
  {
   "cell_type": "code",
   "execution_count": 19,
   "id": "c0427b7d",
   "metadata": {},
   "outputs": [
    {
     "name": "stdout",
     "output_type": "stream",
     "text": [
      "¿Qué dato quieres introducir?: Nombre\n",
      "Nombre: Diego González\n",
      "{'Nombre': 'Diego González'}\n",
      "¿Quieres añadir más información? (Si/No): Si\n",
      "¿Qué dato quieres introducir?: Edad\n",
      "Edad: 39\n",
      "{'Nombre': 'Diego González', 'Edad': '39'}\n",
      "¿Quieres añadir más información? (Si/No): Si\n",
      "¿Qué dato quieres introducir?: Sexo\n",
      "Sexo: Masculino\n",
      "{'Nombre': 'Diego González', 'Edad': '39', 'Sexo': 'Masculino'}\n",
      "¿Quieres añadir más información? (Si/No): Si\n",
      "¿Qué dato quieres introducir?: Teléfono\n",
      "Teléfono: 098506674\n",
      "{'Nombre': 'Diego González', 'Edad': '39', 'Sexo': 'Masculino', 'Teléfono': '098506674'}\n",
      "¿Quieres añadir más información? (Si/No): Si\n",
      "¿Qué dato quieres introducir?: Correo electrónico\n",
      "Correo electrónico: dgonzalez@inamh.com\n",
      "{'Nombre': 'Diego González', 'Edad': '39', 'Sexo': 'Masculino', 'Teléfono': '098506674', 'Correo electrónico': 'dgonzalez@inamh.com'}\n",
      "¿Quieres añadir más información? (Si/No): no\n"
     ]
    }
   ],
   "source": [
    "# Escribir un programa que cree un diccionario vacío y lo vaya llenado \n",
    "# con información sobre una persona \n",
    "# (por ejemplo nombre, edad, sexo, teléfono, correo electrónico, etc.) \n",
    "# que se le pida al usuario. Cada vez que se añada un nuevo dato debe \n",
    "# imprimirse el contenido del diccionario.\n",
    "\n",
    "persona = {}\n",
    "continuar = True\n",
    "\n",
    "while continuar:\n",
    "    clave = input(\"¿Qué dato quieres introducir?: \")\n",
    "    valor = input(clave + ': ')\n",
    "    persona[clave] = valor\n",
    "    print(persona)\n",
    "    \n",
    "    continuar = input(\"¿Quieres añadir más información? (Si/No): \") == \"Si\""
   ]
  },
  {
   "cell_type": "code",
   "execution_count": 20,
   "id": "e4c3df93",
   "metadata": {},
   "outputs": [
    {
     "name": "stdout",
     "output_type": "stream",
     "text": [
      "Introducir una frase: Hola esto es una clase de Python en el ITSQMET\n",
      "Introduzca una letra: y\n",
      "La letra 'y' aparece  1 veces en la frase 'Hola esto es una clase de Python en el ITSQMET'\n"
     ]
    }
   ],
   "source": [
    "# Escribir un programa en el que se pregunte al usuario por una frase y una letra, \n",
    "# y muestre por pantalla el número de veces \n",
    "# que aparece la letra en la frase\n",
    "\n",
    "frase = input(\"Introducir una frase: \")\n",
    "letra = input(\"Introduzca una letra: \")\n",
    "contador = 0\n",
    "\n",
    "for i in frase:\n",
    "    if i == letra:\n",
    "        contador += 1\n",
    "        \n",
    "print(\"La letra '%s' aparece %2i veces en la frase '%s'\" % (letra, contador, frase))"
   ]
  },
  {
   "cell_type": "code",
   "execution_count": null,
   "id": "4e37f00b",
   "metadata": {},
   "outputs": [],
   "source": []
  }
 ],
 "metadata": {
  "kernelspec": {
   "display_name": "Python 3 (ipykernel)",
   "language": "python",
   "name": "python3"
  },
  "language_info": {
   "codemirror_mode": {
    "name": "ipython",
    "version": 3
   },
   "file_extension": ".py",
   "mimetype": "text/x-python",
   "name": "python",
   "nbconvert_exporter": "python",
   "pygments_lexer": "ipython3",
   "version": "3.9.7"
  }
 },
 "nbformat": 4,
 "nbformat_minor": 5
}
