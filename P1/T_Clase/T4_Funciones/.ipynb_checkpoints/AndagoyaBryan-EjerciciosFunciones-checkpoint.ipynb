{
 "cells": [
  {
   "cell_type": "code",
   "execution_count": 1,
   "id": "57be0c44",
   "metadata": {},
   "outputs": [
    {
     "name": "stdout",
     "output_type": "stream",
     "text": [
      "¡Hola amiga!\n"
     ]
    }
   ],
   "source": [
    "# Escribir una función que muestre por pantalla el saludo \n",
    "# ¡Hola amiga! cada vez que se la invoque.\n",
    "\n",
    "def print_hello():\n",
    "    print(\"¡Hola amiga!\")\n",
    "    \n",
    "print_hello()"
   ]
  },
  {
   "cell_type": "code",
   "execution_count": 3,
   "id": "17efcf59",
   "metadata": {},
   "outputs": [
    {
     "name": "stdout",
     "output_type": "stream",
     "text": [
      "¡Hola Carlos!\n"
     ]
    }
   ],
   "source": [
    "# Escribir una función a la que se le pase una cadena \n",
    "# <nombre> y muestre por pantalla el saludo ¡hola <nombre>!.\n",
    "\n",
    "def hello(name):\n",
    "    print(f\"¡Hola {name}!\")\n",
    "    \n",
    "hello(\"Carlos\")"
   ]
  },
  {
   "cell_type": "code",
   "execution_count": 5,
   "id": "72a2f5ac",
   "metadata": {},
   "outputs": [
    {
     "name": "stdout",
     "output_type": "stream",
     "text": [
      "El factorial es 120\n"
     ]
    }
   ],
   "source": [
    "# Escribir una función que reciba un número entero \n",
    "# positivo y devuelva su factorial.\n",
    "\n",
    "def factorial(num):\n",
    "    temp = 1\n",
    "    \n",
    "    for i in range(num):\n",
    "        temp *= i + 1\n",
    "        \n",
    "    return temp\n",
    "\n",
    "print(f\"El factorial es {factorial(5)}\")"
   ]
  },
  {
   "cell_type": "code",
   "execution_count": 7,
   "id": "fc6fdd73",
   "metadata": {},
   "outputs": [
    {
     "name": "stdout",
     "output_type": "stream",
     "text": [
      "El total es 112.00000000000001\n",
      "El total es 121.0\n"
     ]
    }
   ],
   "source": [
    "# Escribir una función que calcule el total de una factura tras aplicarle el IVA. \n",
    "# La función debe recibir la cantidad sin IVA y el porcentaje de IVA a aplicar, \n",
    "# y devolver el total de la factura. Si se invoca la función sin pasarle el \n",
    "# porcentaje de IVA, deberá aplicar un 21%.\n",
    "\n",
    "def calculate_total(amount, iva = 21):\n",
    "    return amount *  (1 + (iva / 100))\n",
    "\n",
    "print(f\"El total es {calculate_total(100, 12)}\")\n",
    "print(f\"El total es {calculate_total(100)}\")"
   ]
  },
  {
   "cell_type": "code",
   "execution_count": 11,
   "id": "f95d1b3d",
   "metadata": {},
   "outputs": [
    {
     "name": "stdout",
     "output_type": "stream",
     "text": [
      "El area del circulo es: 28.274333882308138\n",
      "El volumen del cilindro es: 56.548667764616276\n"
     ]
    }
   ],
   "source": [
    "# Escribir una función que calcule el área de un círculo \n",
    "# y otra que calcule el volumen de un cilindro usando la primera función.\n",
    "\n",
    "import math\n",
    "\n",
    "def calculate_circle_area(radius):\n",
    "    return math.pi * radius ** 2\n",
    "    \n",
    "def calculate_cylinder_volume(radius, height):\n",
    "    return calculate_circle_area(radius) * height\n",
    "\n",
    "print(f\"El area del circulo es: {calculate_circle_area(3)}\")\n",
    "print(f\"El volumen del cilindro es: {calculate_cylinder_volume(3, 2)}\")"
   ]
  },
  {
   "cell_type": "code",
   "execution_count": 14,
   "id": "bdacee81",
   "metadata": {},
   "outputs": [
    {
     "name": "stdout",
     "output_type": "stream",
     "text": [
      "La media es: 13.75\n"
     ]
    }
   ],
   "source": [
    "# Escribir una función que reciba una muestra de \n",
    "# números en una lista y devuelva su media.\n",
    "\n",
    "def calculate_average(numbers):\n",
    "    return sum(numbers) / len(numbers)\n",
    "\n",
    "print(f\"La media es: {calculate_average([5, 13, 27, 10])}\")"
   ]
  },
  {
   "cell_type": "code",
   "execution_count": 16,
   "id": "cc2d9285",
   "metadata": {},
   "outputs": [
    {
     "name": "stdout",
     "output_type": "stream",
     "text": [
      "Los cuadrados son: [4, 9, 16, 25]\n"
     ]
    }
   ],
   "source": [
    "# Escribir una función que reciba una muestra de \n",
    "# números en una lista y devuelva otra lista con sus cuadrados.\n",
    "\n",
    "def calculate_squares(numbers):\n",
    "    squares = []\n",
    "    \n",
    "    for num in numbers:\n",
    "        squares.append(num ** 2)\n",
    "        \n",
    "    return squares\n",
    "\n",
    "print(f\"Los cuadrados son: {calculate_squares([2, 3, 4, 5])}\")"
   ]
  },
  {
   "cell_type": "code",
   "execution_count": 21,
   "id": "8690b902",
   "metadata": {},
   "outputs": [
    {
     "name": "stdout",
     "output_type": "stream",
     "text": [
      "El resultado es: {'media': 9.0, 'varianza': 16.0, 'desviación típica': 4.0}\n"
     ]
    }
   ],
   "source": [
    "# Escribir una función que reciba una muestra de números en \n",
    "# una lista y devuelva un diccionario con su media, \n",
    "# varianza y desviación típica.\n",
    "\n",
    "def calculate_variance(numbers, average):\n",
    "    sum = 0\n",
    "    \n",
    "    for num in numbers:\n",
    "        sum += (num - average) ** 2\n",
    "    \n",
    "    return sum / len(numbers)\n",
    "\n",
    "\n",
    "def calculate_average_variance_deviation(numbers):\n",
    "    result = {}\n",
    "    \n",
    "    result[\"media\"] = calculate_average(numbers)\n",
    "    result[\"varianza\"] = calculate_variance(numbers, result[\"media\"])\n",
    "    result[\"desviación típica\"] = math.sqrt(result[\"varianza\"])\n",
    "    \n",
    "    return result\n",
    "    \n",
    "print(f\"El resultado es: {calculate_average_variance_deviation([5, 13])}\")"
   ]
  },
  {
   "cell_type": "code",
   "execution_count": 45,
   "id": "c2040fd0",
   "metadata": {},
   "outputs": [
    {
     "name": "stdout",
     "output_type": "stream",
     "text": [
      "El máximo común divisor es: 5\n",
      "El mínimo común múltiplo es: 24\n"
     ]
    }
   ],
   "source": [
    "# Escribir una función que calcule el máximo común divisor\n",
    "# de dos números y otra que calcule el mínimo común múltiplo.\n",
    "\n",
    "def calculate_mcd(numbers):\n",
    "    dividers = {}\n",
    "    common_dividers = []\n",
    "    \n",
    "    for num in numbers:\n",
    "        dividers[str(num)] = []\n",
    "        \n",
    "        for i in range(1, num + 1):\n",
    "            if num % i == 0:\n",
    "                dividers[str(num)].append(i)\n",
    "    \n",
    "    for value in dividers.values():\n",
    "        for div in value:\n",
    "            is_common = True\n",
    "            \n",
    "            for key in dividers.keys():\n",
    "                if div not in dividers[key]:\n",
    "                    is_common = False\n",
    "                    break\n",
    "            \n",
    "            if is_common:\n",
    "                common_dividers.append(div)\n",
    "                \n",
    "    return max(common_dividers)\n",
    "\n",
    "\n",
    "def calculate_mcm(numbers):\n",
    "    mcm = None\n",
    "    count = 1\n",
    "    multiples = []\n",
    "    \n",
    "    while mcm == None:   \n",
    "        for num in numbers:\n",
    "            multiple = num * count\n",
    "            \n",
    "            if multiple in multiples:\n",
    "                mcm = multiple\n",
    "                break\n",
    "            \n",
    "            multiples.append(multiple)\n",
    "        \n",
    "        count += 1\n",
    "                \n",
    "    return mcm\n",
    "            \n",
    "    \n",
    "print(f\"El máximo común divisor es: {calculate_mcd([15, 20])}\")\n",
    "print(f\"El mínimo común múltiplo es: {calculate_mcm([12, 8])}\")"
   ]
  },
  {
   "cell_type": "code",
   "execution_count": 50,
   "id": "d10df731",
   "metadata": {},
   "outputs": [
    {
     "name": "stdout",
     "output_type": "stream",
     "text": [
      "El número binario es 101\n",
      "El número decimal es 5\n"
     ]
    }
   ],
   "source": [
    "# Escribir una función que convierta un número decimal \n",
    "# en binario y otra que convierta un número binario en decimal.\n",
    "\n",
    "def decimal_to_binary(num):\n",
    "    return bin(num).replace(\"0b\", \"\")\n",
    "\n",
    "def binary_to_decimal(num):\n",
    "    return int(num, 2)\n",
    "\n",
    "print(f\"El número binario es {decimal_to_binary(5)}\")\n",
    "print(f\"El número decimal es {binary_to_decimal('101')}\")"
   ]
  },
  {
   "cell_type": "code",
   "execution_count": null,
   "id": "9eb4938d",
   "metadata": {},
   "outputs": [],
   "source": []
  }
 ],
 "metadata": {
  "kernelspec": {
   "display_name": "Python 3 (ipykernel)",
   "language": "python",
   "name": "python3"
  },
  "language_info": {
   "codemirror_mode": {
    "name": "ipython",
    "version": 3
   },
   "file_extension": ".py",
   "mimetype": "text/x-python",
   "name": "python",
   "nbconvert_exporter": "python",
   "pygments_lexer": "ipython3",
   "version": "3.9.7"
  }
 },
 "nbformat": 4,
 "nbformat_minor": 5
}
