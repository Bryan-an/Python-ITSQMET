{
 "cells": [
  {
   "cell_type": "code",
   "execution_count": 2,
   "id": "930e85af",
   "metadata": {},
   "outputs": [
    {
     "name": "stdout",
     "output_type": "stream",
     "text": [
      "Hola Diego !\n"
     ]
    }
   ],
   "source": [
    "def hola(arg):\n",
    "    print(\"Hola\", arg, \"!\")\n",
    "    \n",
    "hola(\"Diego\")"
   ]
  },
  {
   "cell_type": "code",
   "execution_count": 3,
   "id": "83cebdec",
   "metadata": {},
   "outputs": [
    {
     "name": "stdout",
     "output_type": "stream",
     "text": [
      "20\n"
     ]
    }
   ],
   "source": [
    "def resta(a, b):\n",
    "    return a - b\n",
    "\n",
    "print(resta(30,10))"
   ]
  },
  {
   "cell_type": "code",
   "execution_count": 5,
   "id": "e39fe81e",
   "metadata": {},
   "outputs": [
    {
     "name": "stdout",
     "output_type": "stream",
     "text": [
      "El factorial es: 120\n"
     ]
    }
   ],
   "source": [
    "# Escribir una función que reciba un número entero positivo y devuelva su factorial\n",
    "def factorial(n):\n",
    "    tmp = 1\n",
    "    \n",
    "    for i in range(n):\n",
    "        tmp *= i + 1\n",
    "    return tmp\n",
    "\n",
    "print(f\"El factorial es: {factorial(5)}\")"
   ]
  },
  {
   "cell_type": "code",
   "execution_count": 6,
   "id": "56f13bb1",
   "metadata": {},
   "outputs": [
    {
     "name": "stdout",
     "output_type": "stream",
     "text": [
      "Ingrese su nombre: Bryan\n",
      "Ingrese su edad: 21\n",
      "Bryan es mayor de edad\n"
     ]
    }
   ],
   "source": [
    "# Ingrese por teclado el nombre y la edad, que diga si es mayor de edad o menor de edad\n",
    "\n",
    "def isAdult():\n",
    "    name = input(\"Ingrese su nombre: \")\n",
    "    age = int(input(\"Ingrese su edad: \"))\n",
    "    \n",
    "    if age > 18:\n",
    "        print(f\"{name} es mayor de edad\")\n",
    "    else:\n",
    "        print(f\"{name} es menor de edad\")\n",
    "\n",
    "isAdult()"
   ]
  }
 ],
 "metadata": {
  "kernelspec": {
   "display_name": "Python 3 (ipykernel)",
   "language": "python",
   "name": "python3"
  },
  "language_info": {
   "codemirror_mode": {
    "name": "ipython",
    "version": 3
   },
   "file_extension": ".py",
   "mimetype": "text/x-python",
   "name": "python",
   "nbconvert_exporter": "python",
   "pygments_lexer": "ipython3",
   "version": "3.9.7"
  }
 },
 "nbformat": 4,
 "nbformat_minor": 5
}
