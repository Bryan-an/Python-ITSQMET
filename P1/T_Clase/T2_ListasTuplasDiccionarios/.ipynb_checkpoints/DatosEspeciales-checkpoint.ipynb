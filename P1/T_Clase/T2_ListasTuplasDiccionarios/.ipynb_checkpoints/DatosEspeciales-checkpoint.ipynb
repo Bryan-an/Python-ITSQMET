{
 "cells": [
  {
   "cell_type": "code",
   "execution_count": 1,
   "id": "c1e87289",
   "metadata": {},
   "outputs": [
    {
     "name": "stdout",
     "output_type": "stream",
     "text": [
      "['Diego', 'Agenda', 39, 145.56]\n"
     ]
    }
   ],
   "source": [
    "# Listas son mutables\n",
    "lista = ['Diego', 'Agenda', 39, 145.56]\n",
    "print(lista)"
   ]
  },
  {
   "cell_type": "code",
   "execution_count": 2,
   "id": "4ef25278",
   "metadata": {},
   "outputs": [
    {
     "name": "stdout",
     "output_type": "stream",
     "text": [
      "('Diego', 'Gonzáles', 39, 165.89)\n"
     ]
    }
   ],
   "source": [
    "# Tuplas inmutables\n",
    "tupla = ('Diego', 'Gonzáles', 39, 165.89)\n",
    "print(tupla)"
   ]
  },
  {
   "cell_type": "code",
   "execution_count": 3,
   "id": "c1c71525",
   "metadata": {},
   "outputs": [],
   "source": [
    "lista.append('pythonista')"
   ]
  },
  {
   "cell_type": "code",
   "execution_count": 4,
   "id": "f5e2698f",
   "metadata": {},
   "outputs": [
    {
     "name": "stdout",
     "output_type": "stream",
     "text": [
      "['Diego', 'Agenda', 39, 145.56, 'pythonista']\n"
     ]
    }
   ],
   "source": [
    "print(lista)"
   ]
  },
  {
   "cell_type": "code",
   "execution_count": 6,
   "id": "e49a13c4",
   "metadata": {},
   "outputs": [
    {
     "name": "stdout",
     "output_type": "stream",
     "text": [
      "{'dia1': 'Lunes', 'dia2': 'martes', 'dia3': 'miércoles', 'dia4': 'jueves', 'dia5': 'viernes', 'dia6': 'sábado', 'dia7': 'domingo'}\n"
     ]
    }
   ],
   "source": [
    "dicc = {\n",
    "    'dia1': 'Lunes', \n",
    "    'dia2': 'martes', \n",
    "    'dia3': 'miércoles', \n",
    "    'dia4': 'jueves', \n",
    "    'dia5': 'viernes', \n",
    "    'dia6': 'sábado', \n",
    "    'dia7': 'domingo'\n",
    "}\n",
    "print(dicc)"
   ]
  },
  {
   "cell_type": "code",
   "execution_count": 7,
   "id": "24475500",
   "metadata": {},
   "outputs": [
    {
     "data": {
      "text/plain": [
       "True"
      ]
     },
     "execution_count": 7,
     "metadata": {},
     "output_type": "execute_result"
    }
   ],
   "source": [
    "'martes' in dicc.values()"
   ]
  },
  {
   "cell_type": "code",
   "execution_count": 8,
   "id": "2c6dc752",
   "metadata": {},
   "outputs": [
    {
     "data": {
      "text/plain": [
       "True"
      ]
     },
     "execution_count": 8,
     "metadata": {},
     "output_type": "execute_result"
    }
   ],
   "source": [
    "'Enero' not in dicc.values()"
   ]
  },
  {
   "cell_type": "code",
   "execution_count": 9,
   "id": "4183e0dc",
   "metadata": {},
   "outputs": [
    {
     "data": {
      "text/plain": [
       "True"
      ]
     },
     "execution_count": 9,
     "metadata": {},
     "output_type": "execute_result"
    }
   ],
   "source": [
    "'dia1' in dicc.keys()"
   ]
  },
  {
   "cell_type": "code",
   "execution_count": 10,
   "id": "d577e35b",
   "metadata": {},
   "outputs": [
    {
     "data": {
      "text/plain": [
       "False"
      ]
     },
     "execution_count": 10,
     "metadata": {},
     "output_type": "execute_result"
    }
   ],
   "source": [
    "'mes1' in dicc.keys()"
   ]
  },
  {
   "cell_type": "code",
   "execution_count": 11,
   "id": "20fb1e5b",
   "metadata": {},
   "outputs": [
    {
     "name": "stdout",
     "output_type": "stream",
     "text": [
      "dict_keys(['dia1', 'dia2', 'dia3', 'dia4', 'dia5', 'dia6', 'dia7'])\n"
     ]
    }
   ],
   "source": [
    "print(dicc.keys())"
   ]
  },
  {
   "cell_type": "code",
   "execution_count": 12,
   "id": "2b98dd4b",
   "metadata": {},
   "outputs": [
    {
     "name": "stdout",
     "output_type": "stream",
     "text": [
      "dict_values(['Lunes', 'martes', 'miércoles', 'jueves', 'viernes', 'sábado', 'domingo'])\n"
     ]
    }
   ],
   "source": [
    "print(dicc.values())"
   ]
  },
  {
   "cell_type": "code",
   "execution_count": 13,
   "id": "b04c7afd",
   "metadata": {},
   "outputs": [
    {
     "name": "stdout",
     "output_type": "stream",
     "text": [
      "{'nombre': 'Diego', 'apellido': 'González', 'edad': 39, 'dirección': 'Quito-cotocollao'}\n"
     ]
    }
   ],
   "source": [
    "# Método dict()\n",
    "# Recibe como parámetro una representación de un diccionario y si es factible, devuelve un diccionario de datos.\n",
    "dic = dict(nombre='Diego', apellido='González', edad=39, dirección='Quito-cotocollao')\n",
    "print(dic)"
   ]
  },
  {
   "cell_type": "code",
   "execution_count": 14,
   "id": "87e5f97c",
   "metadata": {},
   "outputs": [
    {
     "name": "stdout",
     "output_type": "stream",
     "text": [
      "{'a': 1, 'b': 2, 'c': 3, 'd': 4}\n"
     ]
    }
   ],
   "source": [
    "# Método zip()\n",
    "# Recibe como parámetro dos elementos iterables, ya sea una cadena, una lista o una tupla. Ambos parámetros deben tener\n",
    "# el mismo número de elementos. Se devolverá un diccionario relacionando el elemento i-esimo de cada uno de los iterables. \n",
    "dic = dict(zip('abcd', [1, 2, 3, 4]))\n",
    "print(dic)"
   ]
  },
  {
   "cell_type": "code",
   "execution_count": 16,
   "id": "5aa75e35",
   "metadata": {},
   "outputs": [
    {
     "name": "stdout",
     "output_type": "stream",
     "text": [
      "dict_items([('a', 1), ('b', 2), ('c', 3), ('d', 4)])\n"
     ]
    }
   ],
   "source": [
    "# método items()\n",
    "# Devuelve una lista de tuplas, cada tupla se compone de dos elementos: el primero será la clave y el segundo, su valor\n",
    "dicc={'a': 1, 'b': 2, 'c': 3, 'd': 4}\n",
    "items=dicc.items()\n",
    "print(items)"
   ]
  },
  {
   "cell_type": "code",
   "execution_count": 17,
   "id": "5e978b0f",
   "metadata": {},
   "outputs": [
    {
     "name": "stdout",
     "output_type": "stream",
     "text": [
      "dict_keys(['a', 'b', 'c', 'd'])\n"
     ]
    }
   ],
   "source": [
    "# Método keys()\n",
    "# Retorna una lista de elementos, los cuales serán las claves de nuestro diccionario.\n",
    "dicc={'a': 1, 'b': 2, 'c': 3, 'd': 4}\n",
    "claves=dicc.keys()\n",
    "print(claves)"
   ]
  },
  {
   "cell_type": "code",
   "execution_count": 18,
   "id": "b0a48875",
   "metadata": {},
   "outputs": [
    {
     "name": "stdout",
     "output_type": "stream",
     "text": [
      "dict_values([1, 2, 3, 4])\n"
     ]
    }
   ],
   "source": [
    "# Método values()\n",
    "# Retorna una lista de elementos que serán los valores de nuestros diccionario\n",
    "dicc={'a': 1, 'b': 2, 'c': 3, 'd': 4}\n",
    "valores=dicc.values()\n",
    "print(valores)"
   ]
  },
  {
   "cell_type": "code",
   "execution_count": 20,
   "id": "40229cd7",
   "metadata": {},
   "outputs": [
    {
     "name": "stdout",
     "output_type": "stream",
     "text": [
      "{}\n"
     ]
    }
   ],
   "source": [
    "# Método clear()\n",
    "# Elimina todos los ítems del diccionario dejándolo vacío\n",
    "dicc1={'a': 1, 'b': 2, 'c': 3, 'd': 4}\n",
    "dicc1.clear()\n",
    "print(dicc1)"
   ]
  },
  {
   "cell_type": "code",
   "execution_count": 22,
   "id": "eb84419e",
   "metadata": {},
   "outputs": [
    {
     "name": "stdout",
     "output_type": "stream",
     "text": [
      "{'nombre': 'Diego', 'apellido': 'González', 'edad': 39, 'dirección': 'Quito-cotocollao'}\n",
      "{'nombre': 'Diego', 'apellido': 'González', 'edad': 39, 'dirección': 'Quito-cotocollao'}\n"
     ]
    }
   ],
   "source": [
    "# Método copy()\n",
    "# Retorna una copia del diccionario original\n",
    "dic = {'nombre': 'Diego', 'apellido': 'González', 'edad': 39, 'dirección': 'Quito-cotocollao'}\n",
    "dic1 = dic.copy()\n",
    "print(dic)\n",
    "print(dic1)"
   ]
  },
  {
   "cell_type": "code",
   "execution_count": 23,
   "id": "b46b19e6",
   "metadata": {},
   "outputs": [
    {
     "name": "stdout",
     "output_type": "stream",
     "text": [
      "{'a': 1, 'b': 1, 'c': 1, 'd': 1, 'e': 1, 'f': 1}\n"
     ]
    }
   ],
   "source": [
    "# Método fromkeys()\n",
    "# Recibe como parámetros un iterable y un valor, devolviendo un diccionario que contiene como claves los elementos del iterable\n",
    "# con el mismo valor ingresado. Si el valor no es ingresado, devolverá none para todas las claves.\n",
    "dic = dict.fromkeys(['a', 'b', 'c', 'd', 'e', 'f'], 1)\n",
    "print(dic)"
   ]
  },
  {
   "cell_type": "code",
   "execution_count": 24,
   "id": "23d116b8",
   "metadata": {},
   "outputs": [
    {
     "name": "stdout",
     "output_type": "stream",
     "text": [
      "{'a': None, 'b': None, 'c': None, 'd': None, 'e': None, 'f': None}\n"
     ]
    }
   ],
   "source": [
    "dic = dict.fromkeys(['a', 'b', 'c', 'd', 'e', 'f'])\n",
    "print(dic)"
   ]
  },
  {
   "cell_type": "code",
   "execution_count": 26,
   "id": "b9eb3da5",
   "metadata": {},
   "outputs": [
    {
     "name": "stdout",
     "output_type": "stream",
     "text": [
      "300\n"
     ]
    }
   ],
   "source": [
    "# método get()\n",
    "# Recibe como parámetro una clave, devuelve el valor de la clave. Si no lo encuentra, devuelve un objeto none. \n",
    "dic = {'a': 100, 'b': 200, 'c': 300, 'd': 400, 'e': 500, 'f': 600}\n",
    "valor = dic.get('c')\n",
    "print(valor)"
   ]
  },
  {
   "cell_type": "code",
   "execution_count": 27,
   "id": "2a15c087",
   "metadata": {},
   "outputs": [
    {
     "name": "stdout",
     "output_type": "stream",
     "text": [
      "600\n",
      "{'a': 100, 'b': 200, 'c': 300, 'd': 400, 'e': 500}\n"
     ]
    }
   ],
   "source": [
    "# Método pop()\n",
    "# Recibe como parámetro una clave, elimina esta y devuelve su valor. Si no lo encuentra, devuelve error. \n",
    "dic = {'a': 100, 'b': 200, 'c': 300, 'd': 400, 'e': 500, 'f': 600}\n",
    "valor = dic.pop('f')\n",
    "print(valor)\n",
    "print(dic)"
   ]
  },
  {
   "cell_type": "code",
   "execution_count": 28,
   "id": "06128be2",
   "metadata": {},
   "outputs": [
    {
     "ename": "KeyError",
     "evalue": "'g'",
     "output_type": "error",
     "traceback": [
      "\u001b[1;31m---------------------------------------------------------------------------\u001b[0m",
      "\u001b[1;31mKeyError\u001b[0m                                  Traceback (most recent call last)",
      "\u001b[1;32m~\\AppData\\Local\\Temp/ipykernel_21336/2177442212.py\u001b[0m in \u001b[0;36m<module>\u001b[1;34m\u001b[0m\n\u001b[0;32m      1\u001b[0m \u001b[0mdic\u001b[0m \u001b[1;33m=\u001b[0m \u001b[1;33m{\u001b[0m\u001b[1;34m'a'\u001b[0m\u001b[1;33m:\u001b[0m \u001b[1;36m100\u001b[0m\u001b[1;33m,\u001b[0m \u001b[1;34m'b'\u001b[0m\u001b[1;33m:\u001b[0m \u001b[1;36m200\u001b[0m\u001b[1;33m,\u001b[0m \u001b[1;34m'c'\u001b[0m\u001b[1;33m:\u001b[0m \u001b[1;36m300\u001b[0m\u001b[1;33m,\u001b[0m \u001b[1;34m'd'\u001b[0m\u001b[1;33m:\u001b[0m \u001b[1;36m400\u001b[0m\u001b[1;33m,\u001b[0m \u001b[1;34m'e'\u001b[0m\u001b[1;33m:\u001b[0m \u001b[1;36m500\u001b[0m\u001b[1;33m,\u001b[0m \u001b[1;34m'f'\u001b[0m\u001b[1;33m:\u001b[0m \u001b[1;36m600\u001b[0m\u001b[1;33m}\u001b[0m\u001b[1;33m\u001b[0m\u001b[1;33m\u001b[0m\u001b[0m\n\u001b[1;32m----> 2\u001b[1;33m \u001b[0mvalor\u001b[0m \u001b[1;33m=\u001b[0m \u001b[0mdic\u001b[0m\u001b[1;33m.\u001b[0m\u001b[0mpop\u001b[0m\u001b[1;33m(\u001b[0m\u001b[1;34m'g'\u001b[0m\u001b[1;33m)\u001b[0m\u001b[1;33m\u001b[0m\u001b[1;33m\u001b[0m\u001b[0m\n\u001b[0m\u001b[0;32m      3\u001b[0m \u001b[0mprint\u001b[0m\u001b[1;33m(\u001b[0m\u001b[0mvalor\u001b[0m\u001b[1;33m)\u001b[0m\u001b[1;33m\u001b[0m\u001b[1;33m\u001b[0m\u001b[0m\n\u001b[0;32m      4\u001b[0m \u001b[0mprint\u001b[0m\u001b[1;33m(\u001b[0m\u001b[0mdic\u001b[0m\u001b[1;33m)\u001b[0m\u001b[1;33m\u001b[0m\u001b[1;33m\u001b[0m\u001b[0m\n",
      "\u001b[1;31mKeyError\u001b[0m: 'g'"
     ]
    }
   ],
   "source": [
    "dic = {'a': 100, 'b': 200, 'c': 300, 'd': 400, 'e': 500, 'f': 600}\n",
    "valor = dic.pop('g')\n",
    "print(valor)\n",
    "print(dic)"
   ]
  },
  {
   "cell_type": "code",
   "execution_count": 29,
   "id": "3e809e64",
   "metadata": {},
   "outputs": [
    {
     "name": "stdout",
     "output_type": "stream",
     "text": [
      "{'nombre': 'Diego', 'apellido': 'González', 'edad': 50, 'carrera': 'software'}\n"
     ]
    }
   ],
   "source": [
    "# Método update()\n",
    "# Recibe como parámetro otro diccionario. Si se tienen claves iguales,\n",
    "# actualiza el valor de la clave repetida; si no hay claves iguales, este par clave-valor es agregado al diccionario. \n",
    "dic1 = {'nombre': 'Diego', 'apellido': 'González', 'edad': 39}\n",
    "dic2 = {'carrera': 'software', 'edad': 50}\n",
    "dic1.update(dic2)\n",
    "print(dic1)"
   ]
  },
  {
   "cell_type": "code",
   "execution_count": 30,
   "id": "b5f718bc",
   "metadata": {},
   "outputs": [
    {
     "name": "stdout",
     "output_type": "stream",
     "text": [
      "{'nombre1': 'Juan', 'nombre2': 'Carlos', 'nombre3': 'María'}\n",
      "{'nombre1': 'Juan', 'nombre2': 'Carlos', 'nombre3': 'María'}\n",
      "{'nombre1': 'Juan', 'nombre2': 'Carlos', 'nombre3': 'Enrique', 'nombre4': 'José'}\n",
      "{}\n"
     ]
    }
   ],
   "source": [
    "# Crear un diccionario: copiar, actualizar y al final limpiar el diccionario creado \n",
    "dic1 = {'nombre1': 'Juan', 'nombre2': 'Carlos', 'nombre3': 'María'}\n",
    "dic2 = dic1.copy()\n",
    "print(dic1)\n",
    "print(dic2)\n",
    "dic3 = {'nombre3': 'Enrique', 'nombre4': 'José'}\n",
    "dic1.update(dic3)\n",
    "print(dic1)\n",
    "dic1.clear()\n",
    "print(dic1)"
   ]
  },
  {
   "cell_type": "code",
   "execution_count": null,
   "id": "4332a209",
   "metadata": {},
   "outputs": [],
   "source": []
  }
 ],
 "metadata": {
  "kernelspec": {
   "display_name": "Python 3 (ipykernel)",
   "language": "python",
   "name": "python3"
  },
  "language_info": {
   "codemirror_mode": {
    "name": "ipython",
    "version": 3
   },
   "file_extension": ".py",
   "mimetype": "text/x-python",
   "name": "python",
   "nbconvert_exporter": "python",
   "pygments_lexer": "ipython3",
   "version": "3.9.7"
  }
 },
 "nbformat": 4,
 "nbformat_minor": 5
}
