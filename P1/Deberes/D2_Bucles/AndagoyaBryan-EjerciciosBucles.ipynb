{
 "cells": [
  {
   "cell_type": "code",
   "execution_count": 27,
   "id": "6c9c9435",
   "metadata": {},
   "outputs": [
    {
     "name": "stdout",
     "output_type": "stream",
     "text": [
      "Introduzca una palabra: Hola\n",
      "Hola\n",
      "Hola\n",
      "Hola\n",
      "Hola\n",
      "Hola\n",
      "Hola\n",
      "Hola\n",
      "Hola\n",
      "Hola\n",
      "Hola\n"
     ]
    }
   ],
   "source": [
    "# 1. Escribir un programa que pida al usuario una palabra \n",
    "# y la muestre por pantalla 10 veces.\n",
    "word = input(\"Introduzca una palabra: \")\n",
    "\n",
    "for i in range(10):\n",
    "    print(word)"
   ]
  },
  {
   "cell_type": "code",
   "execution_count": 28,
   "id": "a3a469c3",
   "metadata": {},
   "outputs": [
    {
     "name": "stdout",
     "output_type": "stream",
     "text": [
      "¿Cuántos años tiene?: 8\n",
      "Has cumplido 1 años\n",
      "Has cumplido 2 años\n",
      "Has cumplido 3 años\n",
      "Has cumplido 4 años\n",
      "Has cumplido 5 años\n",
      "Has cumplido 6 años\n",
      "Has cumplido 7 años\n",
      "Has cumplido 8 años\n"
     ]
    }
   ],
   "source": [
    "# 2. Escribir un programa que pregunte al usuario su edad \n",
    "# y muestre por pantalla todos los años que ha cumplido \n",
    "# (desde 1 hasta su edad).\n",
    "age = int(input(\"¿Cuántos años tiene?: \"))\n",
    "\n",
    "for i in range(age):\n",
    "    print(\"Has cumplido \" + str(i + 1) + \" años\")"
   ]
  },
  {
   "cell_type": "code",
   "execution_count": 9,
   "id": "babc9e33",
   "metadata": {},
   "outputs": [
    {
     "name": "stdout",
     "output_type": "stream",
     "text": [
      "Ingrese un número entero positivo: 11\n",
      "1,3,5,7,9,11\n"
     ]
    }
   ],
   "source": [
    "# 3. Escribir un programa que pida al usuario un número entero positivo \n",
    "# y muestre por pantalla todos los números impares desde 1 hasta ese \n",
    "# número separados por comas.\n",
    "num = int(input(\"Ingrese un número entero positivo: \"))\n",
    "\n",
    "for i in range(1, num + 1, 2):\n",
    "    if i == num or i == num - 1:\n",
    "        print(i)\n",
    "    else:\n",
    "        print(i, end = \",\")"
   ]
  },
  {
   "cell_type": "code",
   "execution_count": 12,
   "id": "93a09647",
   "metadata": {},
   "outputs": [
    {
     "name": "stdout",
     "output_type": "stream",
     "text": [
      "Ingrese un número entero positivo: 10\n",
      "10,9,8,7,6,5,4,3,2,1,0\n"
     ]
    }
   ],
   "source": [
    "# 4. Escribir un programa que pida al usuario un número entero positivo \n",
    "# y muestre por pantalla la cuenta atrás desde ese número hasta cero \n",
    "# separados por comas.\n",
    "num = int(input(\"Ingrese un número entero positivo: \"))\n",
    "\n",
    "for i in range(num, -1, -1):\n",
    "    if i == 0:\n",
    "        print(i)\n",
    "    else:\n",
    "        print(i, end = \",\")"
   ]
  },
  {
   "cell_type": "code",
   "execution_count": 20,
   "id": "b92e931b",
   "metadata": {},
   "outputs": [
    {
     "name": "stdout",
     "output_type": "stream",
     "text": [
      "Ingrese la cantidad a invertir: 10000\n",
      "Ingrese el interes anual (%): 10\n",
      "Ingrese el número de años: 5\n",
      "El año 1 obtendría: 11000.0\n",
      "El año 2 obtendría: 12100.0\n",
      "El año 3 obtendría: 13310.0\n",
      "El año 4 obtendría: 14641.0\n",
      "El año 5 obtendría: 16105.1\n"
     ]
    }
   ],
   "source": [
    "# 5. Escribir un programa que pregunte al usuario una cantidad a invertir, \n",
    "# el interés anual y el número de años, y muestre por pantalla el capital \n",
    "# obtenido en la inversión cada año que dura la inversión.\n",
    "amount = float(input(\"Ingrese la cantidad a invertir: \"))\n",
    "annual_interest = float(input(\"Ingrese el interes anual (%): \")) / 100\n",
    "years = int(input(\"Ingrese el número de años: \"))\n",
    "\n",
    "for i in range(years):\n",
    "    amount += amount * annual_interest\n",
    "    print(f\"El año {i + 1} obtendría: {amount}\")"
   ]
  },
  {
   "cell_type": "code",
   "execution_count": 21,
   "id": "aedac0bf",
   "metadata": {},
   "outputs": [
    {
     "name": "stdout",
     "output_type": "stream",
     "text": [
      "Introduzca la altura del triángulo: 8\n",
      "*\n",
      "**\n",
      "***\n",
      "****\n",
      "*****\n",
      "******\n",
      "*******\n",
      "********\n"
     ]
    }
   ],
   "source": [
    "# 6. Escribir un programa que pida al usuario un número entero \n",
    "# y muestre por pantalla un triángulo rectángulo como el de más \n",
    "# abajo, de altura el número introducido.\n",
    "# *\n",
    "# **\n",
    "# ***\n",
    "# ****\n",
    "# *****\n",
    "height = int(input(\"Introduzca la altura del triángulo: \"))\n",
    "\n",
    "for i in range(height):\n",
    "    for j in range(i + 1):\n",
    "        print(\"*\" , end = \"\")\n",
    "    print(\"\")"
   ]
  },
  {
   "cell_type": "code",
   "execution_count": 23,
   "id": "fd5919ab",
   "metadata": {},
   "outputs": [
    {
     "name": "stdout",
     "output_type": "stream",
     "text": [
      "Tabla del 1: 1x1=1 1x2=2 1x3=3 1x4=4 1x5=5 1x6=6 1x7=7 1x8=8 1x9=9 1x10=10 \n",
      "Tabla del 2: 2x1=2 2x2=4 2x3=6 2x4=8 2x5=10 2x6=12 2x7=14 2x8=16 2x9=18 2x10=20 \n",
      "Tabla del 3: 3x1=3 3x2=6 3x3=9 3x4=12 3x5=15 3x6=18 3x7=21 3x8=24 3x9=27 3x10=30 \n",
      "Tabla del 4: 4x1=4 4x2=8 4x3=12 4x4=16 4x5=20 4x6=24 4x7=28 4x8=32 4x9=36 4x10=40 \n",
      "Tabla del 5: 5x1=5 5x2=10 5x3=15 5x4=20 5x5=25 5x6=30 5x7=35 5x8=40 5x9=45 5x10=50 \n",
      "Tabla del 6: 6x1=6 6x2=12 6x3=18 6x4=24 6x5=30 6x6=36 6x7=42 6x8=48 6x9=54 6x10=60 \n",
      "Tabla del 7: 7x1=7 7x2=14 7x3=21 7x4=28 7x5=35 7x6=42 7x7=49 7x8=56 7x9=63 7x10=70 \n",
      "Tabla del 8: 8x1=8 8x2=16 8x3=24 8x4=32 8x5=40 8x6=48 8x7=56 8x8=64 8x9=72 8x10=80 \n",
      "Tabla del 9: 9x1=9 9x2=18 9x3=27 9x4=36 9x5=45 9x6=54 9x7=63 9x8=72 9x9=81 9x10=90 \n",
      "Tabla del 10: 10x1=10 10x2=20 10x3=30 10x4=40 10x5=50 10x6=60 10x7=70 10x8=80 10x9=90 10x10=100 \n"
     ]
    }
   ],
   "source": [
    "# 7. Escribir un programa que muestre por pantalla \n",
    "# la tabla de multiplicar del 1 al 10.\n",
    "for i in range(1, 11):\n",
    "    print(f\"Tabla del {i}:\", end = \" \")\n",
    "    for j in range(1, 11):\n",
    "        print(f\"{i}x{j}={i*j}\", end = \" \")\n",
    "    print(\"\")"
   ]
  },
  {
   "cell_type": "code",
   "execution_count": 24,
   "id": "c4908324",
   "metadata": {},
   "outputs": [
    {
     "name": "stdout",
     "output_type": "stream",
     "text": [
      "Ingrese un número (entero positivo): 9\n",
      "1  \n",
      "3 1  \n",
      "5 3 1  \n",
      "7 5 3 1  \n",
      "9 7 5 3 1  \n"
     ]
    }
   ],
   "source": [
    "# 8. Escribir un programa que pida al usuario un número entero \n",
    "# y muestre por pantalla un triángulo rectángulo como el de \n",
    "# más abajo.\n",
    "# 1\n",
    "# 3 1\n",
    "# 5 3 1\n",
    "# 7 5 3 1\n",
    "# 9 7 5 3 1\n",
    "\n",
    "num = int(input(\"Ingrese un número (entero positivo): \"))\n",
    "\n",
    "for i in range(1, num + 1, 2):\n",
    "    for j in range(i, 0, -2):\n",
    "        print(j, end=\" \")\n",
    "    print(\" \")"
   ]
  },
  {
   "cell_type": "code",
   "execution_count": 29,
   "id": "10fec949",
   "metadata": {},
   "outputs": [
    {
     "name": "stdout",
     "output_type": "stream",
     "text": [
      "Ingrese la contraseña: hola\n",
      "Contraseña incorrecta\n",
      "Ingrese la contraseña: contraseña\n"
     ]
    }
   ],
   "source": [
    "# 9. Escribir un programa que almacene la cadena de caracteres \n",
    "# contraseña en una variable, pregunte al usuario por la \n",
    "# contraseña hasta que introduzca la contraseña correcta.\n",
    "\n",
    "password = \"contraseña\"\n",
    "valid = False\n",
    "\n",
    "while valid == False:\n",
    "    string = input(\"Ingrese la contraseña: \")\n",
    "    if string == password:\n",
    "        valid = True\n",
    "    else:\n",
    "        print(\"Contraseña incorrecta\")"
   ]
  },
  {
   "cell_type": "code",
   "execution_count": 40,
   "id": "a3bb1bce",
   "metadata": {},
   "outputs": [
    {
     "name": "stdout",
     "output_type": "stream",
     "text": [
      "Ingrese un número entero: 67\n",
      "El número 67 es primo\n"
     ]
    }
   ],
   "source": [
    "# 10. Escribir un programa que pida al usuario un número entero\n",
    "# y muestre por pantalla si es un número primo o no.\n",
    "\n",
    "num = int(input(\"Ingrese un número entero: \"))\n",
    "dividers = 1\n",
    "\n",
    "for i in range(2, num + 1):\n",
    "    if num % i == 0:\n",
    "        dividers += 1\n",
    "        \n",
    "if dividers > 2:\n",
    "    print(f\"El número {num} no es primo\")\n",
    "else:\n",
    "    print(f\"El número {num} es primo\")"
   ]
  },
  {
   "cell_type": "code",
   "execution_count": 41,
   "id": "fdd0615a",
   "metadata": {},
   "outputs": [
    {
     "name": "stdout",
     "output_type": "stream",
     "text": [
      "Ingrese una palabra: programar\n",
      "r\n",
      "a\n",
      "m\n",
      "a\n",
      "r\n",
      "g\n",
      "o\n",
      "r\n",
      "p\n"
     ]
    }
   ],
   "source": [
    "# 11. Escribir un programa que pida al usuario una palabra \n",
    "# y luego muestre por pantalla una a una las letras de la \n",
    "# palabra introducida empezando por la última.\n",
    "\n",
    "word = input(\"Ingrese una palabra: \")[::-1]\n",
    "\n",
    "for letter in word:\n",
    "    print(letter)"
   ]
  },
  {
   "cell_type": "code",
   "execution_count": 44,
   "id": "45759400",
   "metadata": {},
   "outputs": [
    {
     "name": "stdout",
     "output_type": "stream",
     "text": [
      "Introducir una frase: aprendo a programar con python\n",
      "Introduzca una letra: a\n",
      "La letra 'a' aparece  4 veces en la frase 'aprendo a programar con python'\n"
     ]
    }
   ],
   "source": [
    "# 12. Escribir un programa en el que se pregunte al usuario por \n",
    "# una frase y una letra, y muestre por pantalla el número de \n",
    "# veces que aparece la letra en la frase.\n",
    "\n",
    "phrase = input(\"Introducir una frase: \")\n",
    "letter = input(\"Introduzca una letra: \")\n",
    "count = 0\n",
    "\n",
    "for i in phrase:\n",
    "    if i == letter:\n",
    "        count += 1\n",
    "        \n",
    "print(\"La letra '%s' aparece %2i veces en la frase '%s'\" % (letter, count, phrase))"
   ]
  },
  {
   "cell_type": "code",
   "execution_count": 46,
   "id": "498012f5",
   "metadata": {},
   "outputs": [
    {
     "name": "stdout",
     "output_type": "stream",
     "text": [
      "Introduzca algo: hola\n",
      "hola\n",
      "Introduzca algo: como estas\n",
      "como estas\n",
      "Introduzca algo: salir\n"
     ]
    }
   ],
   "source": [
    "# 13. Escribir un programa que muestre el eco de todo lo que el \n",
    "# usuario introduzca hasta que el usuario escriba “salir” que terminará.\n",
    "\n",
    "something = input(\"Introduzca algo: \")\n",
    "\n",
    "while something != \"salir\":\n",
    "    print(something)\n",
    "    something = input(\"Introduzca algo: \")"
   ]
  }
 ],
 "metadata": {
  "kernelspec": {
   "display_name": "Python 3 (ipykernel)",
   "language": "python",
   "name": "python3"
  },
  "language_info": {
   "codemirror_mode": {
    "name": "ipython",
    "version": 3
   },
   "file_extension": ".py",
   "mimetype": "text/x-python",
   "name": "python",
   "nbconvert_exporter": "python",
   "pygments_lexer": "ipython3",
   "version": "3.9.7"
  }
 },
 "nbformat": 4,
 "nbformat_minor": 5
}
