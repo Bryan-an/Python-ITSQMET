{
 "cells": [
  {
   "cell_type": "code",
   "execution_count": 7,
   "id": "32b0d226",
   "metadata": {},
   "outputs": [
    {
     "name": "stdout",
     "output_type": "stream",
     "text": [
      "Ingrese su nombre: Bryan\n",
      "Ingrese su edad: 21\n",
      "Ingrese su dirección: Calle 2\n",
      "Ingrese su teléfono: 1234567890\n",
      "Bryan tiene 21 años, vive en Calle 2 y su número de teléfono es 1234567890 .\n"
     ]
    }
   ],
   "source": [
    "# 1.Escribir una función que pregunte al usuario su nombre, \n",
    "# edad, dirección y teléfono y lo guarde en un diccionario. \n",
    "# Después debe mostrar por pantalla el mensaje <nombre> \n",
    "# tiene <edad> años, vive en <dirección> y su número de \n",
    "# teléfono es <teléfono>.\n",
    "\n",
    "data = {}\n",
    "data[\"name\"] = input(\"Ingrese su nombre: \")\n",
    "data[\"age\"] = int(input(\"Ingrese su edad: \"))\n",
    "data[\"address\"] = input(\"Ingrese su dirección: \")\n",
    "data[\"phone\"] = input(\"Ingrese su teléfono: \")\n",
    "\n",
    "name = data[\"name\"];\n",
    "\n",
    "print(data[\"name\"],\"tiene\", data[\"age\"], \"años, vive en\", data[\"address\"], \"y su número de teléfono es\",data[\"phone\"], \".\")"
   ]
  },
  {
   "cell_type": "code",
   "execution_count": 9,
   "id": "2ae5ddd8",
   "metadata": {},
   "outputs": [
    {
     "name": "stdout",
     "output_type": "stream",
     "text": [
      "Ingrese una palabra: Hola\n",
      "a\n",
      "l\n",
      "o\n",
      "H\n"
     ]
    }
   ],
   "source": [
    "# 2.Escribir una función que pida al usuario una palabra y \n",
    "# luego muestre por pantalla una a una las letras de la \n",
    "# palabra introducida empezando por la última.\n",
    "\n",
    "word = input(\"Ingrese una palabra: \")[::-1]\n",
    "\n",
    "for letter in word:\n",
    "    print(letter)"
   ]
  },
  {
   "cell_type": "code",
   "execution_count": null,
   "id": "7534d9df",
   "metadata": {},
   "outputs": [],
   "source": []
  }
 ],
 "metadata": {
  "kernelspec": {
   "display_name": "Python 3 (ipykernel)",
   "language": "python",
   "name": "python3"
  },
  "language_info": {
   "codemirror_mode": {
    "name": "ipython",
    "version": 3
   },
   "file_extension": ".py",
   "mimetype": "text/x-python",
   "name": "python",
   "nbconvert_exporter": "python",
   "pygments_lexer": "ipython3",
   "version": "3.9.7"
  }
 },
 "nbformat": 4,
 "nbformat_minor": 5
}
